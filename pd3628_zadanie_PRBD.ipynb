{
 "cells": [
  {
   "cell_type": "code",
   "execution_count": 1,
   "id": "dd8c55c5",
   "metadata": {
    "scrolled": false
   },
   "outputs": [
    {
     "name": "stdout",
     "output_type": "stream",
     "text": [
      "Wall time: 6.72 s\n"
     ]
    }
   ],
   "source": [
    "%%time\n",
    "import numpy as np\n",
    "import pandas as pd\n",
    "import scipy.stats as stats\n",
    "import matplotlib.pyplot as plt\n",
    "import seaborn as sns"
   ]
  },
  {
   "cell_type": "code",
   "execution_count": 2,
   "id": "a74a22bc",
   "metadata": {},
   "outputs": [
    {
     "name": "stdout",
     "output_type": "stream",
     "text": [
      "Wall time: 15.4 s\n"
     ]
    }
   ],
   "source": [
    "%%time\n",
    "paris_df = pd.read_csv(\"http://data.insideairbnb.com/france/ile-de-france/paris/2021-10-09/data/listings.csv.gz\")"
   ]
  },
  {
   "cell_type": "markdown",
   "id": "60593260",
   "metadata": {},
   "source": [
    "Checking and getting rid of data blanks;"
   ]
  },
  {
   "cell_type": "code",
   "execution_count": 3,
   "id": "c677c0ed",
   "metadata": {},
   "outputs": [
    {
     "data": {
      "text/plain": [
       "(49634, 74)"
      ]
     },
     "execution_count": 3,
     "metadata": {},
     "output_type": "execute_result"
    }
   ],
   "source": [
    "paris_df.shape"
   ]
  },
  {
   "cell_type": "code",
   "execution_count": 4,
   "id": "c3f4a9f8",
   "metadata": {
    "scrolled": true
   },
   "outputs": [
    {
     "data": {
      "text/plain": [
       "id                                  0\n",
       "availability_30                     0\n",
       "number_of_reviews                   0\n",
       "neighbourhood_cleansed              0\n",
       "calendar_last_scraped               0\n",
       "                                ...  \n",
       "host_response_rate              27210\n",
       "host_response_time              27210\n",
       "calendar_updated                49634\n",
       "neighbourhood_group_cleansed    49634\n",
       "bathrooms                       49634\n",
       "Length: 74, dtype: int64"
      ]
     },
     "execution_count": 4,
     "metadata": {},
     "output_type": "execute_result"
    }
   ],
   "source": [
    "paris_df.isnull().sum().sort_values()"
   ]
  },
  {
   "cell_type": "markdown",
   "id": "ed7d2ec5",
   "metadata": {},
   "source": [
    "Some columns are entirely empty, some other are missing significant amount of data; decided to remove columns with treshold of 15% blanks"
   ]
  },
  {
   "cell_type": "code",
   "execution_count": 5,
   "id": "129fb008",
   "metadata": {},
   "outputs": [],
   "source": [
    "paris_df = paris_df.dropna(axis='columns', thresh=int(paris_df.shape[0] * 0.85))"
   ]
  },
  {
   "cell_type": "markdown",
   "id": "b4a301e7",
   "metadata": {},
   "source": [
    "Before potential blanks filling, checking if any other columns may be of no value for further analysis"
   ]
  },
  {
   "cell_type": "code",
   "execution_count": 6,
   "id": "62e61da6",
   "metadata": {},
   "outputs": [
    {
     "data": {
      "text/html": [
       "<div>\n",
       "<style scoped>\n",
       "    .dataframe tbody tr th:only-of-type {\n",
       "        vertical-align: middle;\n",
       "    }\n",
       "\n",
       "    .dataframe tbody tr th {\n",
       "        vertical-align: top;\n",
       "    }\n",
       "\n",
       "    .dataframe thead th {\n",
       "        text-align: right;\n",
       "    }\n",
       "</style>\n",
       "<table border=\"1\" class=\"dataframe\">\n",
       "  <thead>\n",
       "    <tr style=\"text-align: right;\">\n",
       "      <th></th>\n",
       "      <th>id</th>\n",
       "      <th>listing_url</th>\n",
       "      <th>scrape_id</th>\n",
       "      <th>last_scraped</th>\n",
       "      <th>name</th>\n",
       "      <th>description</th>\n",
       "      <th>picture_url</th>\n",
       "      <th>host_id</th>\n",
       "      <th>host_url</th>\n",
       "      <th>host_name</th>\n",
       "      <th>host_since</th>\n",
       "      <th>host_location</th>\n",
       "      <th>host_is_superhost</th>\n",
       "      <th>host_thumbnail_url</th>\n",
       "      <th>host_picture_url</th>\n",
       "      <th>host_listings_count</th>\n",
       "      <th>host_total_listings_count</th>\n",
       "      <th>host_verifications</th>\n",
       "      <th>host_has_profile_pic</th>\n",
       "      <th>host_identity_verified</th>\n",
       "      <th>neighbourhood_cleansed</th>\n",
       "      <th>latitude</th>\n",
       "      <th>longitude</th>\n",
       "      <th>property_type</th>\n",
       "      <th>room_type</th>\n",
       "      <th>accommodates</th>\n",
       "      <th>bathrooms_text</th>\n",
       "      <th>beds</th>\n",
       "      <th>amenities</th>\n",
       "      <th>price</th>\n",
       "      <th>minimum_nights</th>\n",
       "      <th>maximum_nights</th>\n",
       "      <th>minimum_minimum_nights</th>\n",
       "      <th>maximum_minimum_nights</th>\n",
       "      <th>minimum_maximum_nights</th>\n",
       "      <th>maximum_maximum_nights</th>\n",
       "      <th>minimum_nights_avg_ntm</th>\n",
       "      <th>maximum_nights_avg_ntm</th>\n",
       "      <th>has_availability</th>\n",
       "      <th>availability_30</th>\n",
       "      <th>availability_60</th>\n",
       "      <th>availability_90</th>\n",
       "      <th>availability_365</th>\n",
       "      <th>calendar_last_scraped</th>\n",
       "      <th>number_of_reviews</th>\n",
       "      <th>number_of_reviews_ltm</th>\n",
       "      <th>number_of_reviews_l30d</th>\n",
       "      <th>instant_bookable</th>\n",
       "      <th>calculated_host_listings_count</th>\n",
       "      <th>calculated_host_listings_count_entire_homes</th>\n",
       "      <th>calculated_host_listings_count_private_rooms</th>\n",
       "      <th>calculated_host_listings_count_shared_rooms</th>\n",
       "    </tr>\n",
       "  </thead>\n",
       "  <tbody>\n",
       "    <tr>\n",
       "      <th>0</th>\n",
       "      <td>5396</td>\n",
       "      <td>https://www.airbnb.com/rooms/5396</td>\n",
       "      <td>20211009153557</td>\n",
       "      <td>2021-10-11</td>\n",
       "      <td>Explore the heart of old Paris</td>\n",
       "      <td>Cozy, well-appointed and graciously designed s...</td>\n",
       "      <td>https://a0.muscache.com/pictures/52413/f9bf76f...</td>\n",
       "      <td>7903</td>\n",
       "      <td>https://www.airbnb.com/users/show/7903</td>\n",
       "      <td>Borzou</td>\n",
       "      <td>2009-02-14</td>\n",
       "      <td>İstanbul, İstanbul, Turkey</td>\n",
       "      <td>f</td>\n",
       "      <td>https://a0.muscache.com/im/users/7903/profile_...</td>\n",
       "      <td>https://a0.muscache.com/im/users/7903/profile_...</td>\n",
       "      <td>1.0</td>\n",
       "      <td>1.0</td>\n",
       "      <td>['email', 'phone', 'facebook', 'google', 'revi...</td>\n",
       "      <td>t</td>\n",
       "      <td>t</td>\n",
       "      <td>Hôtel-de-Ville</td>\n",
       "      <td>48.85207</td>\n",
       "      <td>2.35871</td>\n",
       "      <td>Entire rental unit</td>\n",
       "      <td>Entire home/apt</td>\n",
       "      <td>2</td>\n",
       "      <td>1 bath</td>\n",
       "      <td>1.0</td>\n",
       "      <td>[\"Fire extinguisher\", \"Hangers\", \"Washer\", \"St...</td>\n",
       "      <td>$100.00</td>\n",
       "      <td>2</td>\n",
       "      <td>1125</td>\n",
       "      <td>2.0</td>\n",
       "      <td>2.0</td>\n",
       "      <td>1125.0</td>\n",
       "      <td>1125.0</td>\n",
       "      <td>2.0</td>\n",
       "      <td>1125.0</td>\n",
       "      <td>t</td>\n",
       "      <td>3</td>\n",
       "      <td>25</td>\n",
       "      <td>55</td>\n",
       "      <td>55</td>\n",
       "      <td>2021-10-11</td>\n",
       "      <td>263</td>\n",
       "      <td>35</td>\n",
       "      <td>2</td>\n",
       "      <td>f</td>\n",
       "      <td>1</td>\n",
       "      <td>1</td>\n",
       "      <td>0</td>\n",
       "      <td>0</td>\n",
       "    </tr>\n",
       "    <tr>\n",
       "      <th>1</th>\n",
       "      <td>7397</td>\n",
       "      <td>https://www.airbnb.com/rooms/7397</td>\n",
       "      <td>20211009153557</td>\n",
       "      <td>2021-10-11</td>\n",
       "      <td>MARAIS - 2ROOMS APT - 2/4 PEOPLE</td>\n",
       "      <td>VERY CONVENIENT, WITH THE BEST LOCATION !&lt;br /...</td>\n",
       "      <td>https://a0.muscache.com/pictures/67928287/330b...</td>\n",
       "      <td>2626</td>\n",
       "      <td>https://www.airbnb.com/users/show/2626</td>\n",
       "      <td>Franck</td>\n",
       "      <td>2008-08-30</td>\n",
       "      <td>Paris, Île-de-France, France</td>\n",
       "      <td>t</td>\n",
       "      <td>https://a0.muscache.com/im/pictures/user/58f00...</td>\n",
       "      <td>https://a0.muscache.com/im/pictures/user/58f00...</td>\n",
       "      <td>4.0</td>\n",
       "      <td>4.0</td>\n",
       "      <td>['email', 'phone', 'reviews', 'jumio', 'offlin...</td>\n",
       "      <td>t</td>\n",
       "      <td>t</td>\n",
       "      <td>Hôtel-de-Ville</td>\n",
       "      <td>48.85909</td>\n",
       "      <td>2.35315</td>\n",
       "      <td>Entire rental unit</td>\n",
       "      <td>Entire home/apt</td>\n",
       "      <td>4</td>\n",
       "      <td>1 bath</td>\n",
       "      <td>2.0</td>\n",
       "      <td>[\"Hangers\", \"Washer\", \"Stove\", \"Bed linens\", \"...</td>\n",
       "      <td>$105.00</td>\n",
       "      <td>10</td>\n",
       "      <td>130</td>\n",
       "      <td>3.0</td>\n",
       "      <td>10.0</td>\n",
       "      <td>130.0</td>\n",
       "      <td>130.0</td>\n",
       "      <td>9.9</td>\n",
       "      <td>130.0</td>\n",
       "      <td>t</td>\n",
       "      <td>0</td>\n",
       "      <td>1</td>\n",
       "      <td>3</td>\n",
       "      <td>233</td>\n",
       "      <td>2021-10-11</td>\n",
       "      <td>282</td>\n",
       "      <td>13</td>\n",
       "      <td>4</td>\n",
       "      <td>f</td>\n",
       "      <td>1</td>\n",
       "      <td>1</td>\n",
       "      <td>0</td>\n",
       "      <td>0</td>\n",
       "    </tr>\n",
       "    <tr>\n",
       "      <th>2</th>\n",
       "      <td>7964</td>\n",
       "      <td>https://www.airbnb.com/rooms/7964</td>\n",
       "      <td>20211009153557</td>\n",
       "      <td>2021-10-10</td>\n",
       "      <td>Large &amp; sunny flat with balcony !</td>\n",
       "      <td>Very large &amp; nice apartment all for you! &lt;br /...</td>\n",
       "      <td>https://a0.muscache.com/pictures/4471349/6fb3d...</td>\n",
       "      <td>22155</td>\n",
       "      <td>https://www.airbnb.com/users/show/22155</td>\n",
       "      <td>Anaïs</td>\n",
       "      <td>2009-06-18</td>\n",
       "      <td>Paris, Île-de-France, France</td>\n",
       "      <td>f</td>\n",
       "      <td>https://a0.muscache.com/im/users/22155/profile...</td>\n",
       "      <td>https://a0.muscache.com/im/users/22155/profile...</td>\n",
       "      <td>0.0</td>\n",
       "      <td>0.0</td>\n",
       "      <td>['email', 'phone', 'reviews', 'jumio', 'offlin...</td>\n",
       "      <td>t</td>\n",
       "      <td>t</td>\n",
       "      <td>Opéra</td>\n",
       "      <td>48.87417</td>\n",
       "      <td>2.34245</td>\n",
       "      <td>Entire rental unit</td>\n",
       "      <td>Entire home/apt</td>\n",
       "      <td>2</td>\n",
       "      <td>1 bath</td>\n",
       "      <td>1.0</td>\n",
       "      <td>[\"Hangers\", \"Stove\", \"Bed linens\", \"Private pa...</td>\n",
       "      <td>$130.00</td>\n",
       "      <td>6</td>\n",
       "      <td>365</td>\n",
       "      <td>6.0</td>\n",
       "      <td>6.0</td>\n",
       "      <td>365.0</td>\n",
       "      <td>365.0</td>\n",
       "      <td>6.0</td>\n",
       "      <td>365.0</td>\n",
       "      <td>t</td>\n",
       "      <td>0</td>\n",
       "      <td>2</td>\n",
       "      <td>18</td>\n",
       "      <td>293</td>\n",
       "      <td>2021-10-10</td>\n",
       "      <td>6</td>\n",
       "      <td>0</td>\n",
       "      <td>0</td>\n",
       "      <td>f</td>\n",
       "      <td>1</td>\n",
       "      <td>1</td>\n",
       "      <td>0</td>\n",
       "      <td>0</td>\n",
       "    </tr>\n",
       "    <tr>\n",
       "      <th>3</th>\n",
       "      <td>9359</td>\n",
       "      <td>https://www.airbnb.com/rooms/9359</td>\n",
       "      <td>20211009153557</td>\n",
       "      <td>2021-10-11</td>\n",
       "      <td>Cozy, Central Paris: WALK or VELIB EVERYWHERE !</td>\n",
       "      <td>Location! Location! Location! Just bring your ...</td>\n",
       "      <td>https://a0.muscache.com/pictures/c2965945-061f...</td>\n",
       "      <td>28422</td>\n",
       "      <td>https://www.airbnb.com/users/show/28422</td>\n",
       "      <td>Bernadette</td>\n",
       "      <td>2009-07-29</td>\n",
       "      <td>New York, New York, United States</td>\n",
       "      <td>f</td>\n",
       "      <td>https://a0.muscache.com/im/users/28422/profile...</td>\n",
       "      <td>https://a0.muscache.com/im/users/28422/profile...</td>\n",
       "      <td>3.0</td>\n",
       "      <td>3.0</td>\n",
       "      <td>['email', 'phone', 'reviews', 'jumio', 'offlin...</td>\n",
       "      <td>t</td>\n",
       "      <td>t</td>\n",
       "      <td>Louvre</td>\n",
       "      <td>48.85899</td>\n",
       "      <td>2.34735</td>\n",
       "      <td>Entire rental unit</td>\n",
       "      <td>Entire home/apt</td>\n",
       "      <td>2</td>\n",
       "      <td>1 bath</td>\n",
       "      <td>1.0</td>\n",
       "      <td>[\"Long term stays allowed\", \"Hair dryer\", \"Kit...</td>\n",
       "      <td>$75.00</td>\n",
       "      <td>180</td>\n",
       "      <td>365</td>\n",
       "      <td>180.0</td>\n",
       "      <td>180.0</td>\n",
       "      <td>365.0</td>\n",
       "      <td>365.0</td>\n",
       "      <td>180.0</td>\n",
       "      <td>365.0</td>\n",
       "      <td>t</td>\n",
       "      <td>0</td>\n",
       "      <td>0</td>\n",
       "      <td>0</td>\n",
       "      <td>58</td>\n",
       "      <td>2021-10-11</td>\n",
       "      <td>0</td>\n",
       "      <td>0</td>\n",
       "      <td>0</td>\n",
       "      <td>f</td>\n",
       "      <td>1</td>\n",
       "      <td>1</td>\n",
       "      <td>0</td>\n",
       "      <td>0</td>\n",
       "    </tr>\n",
       "    <tr>\n",
       "      <th>4</th>\n",
       "      <td>9952</td>\n",
       "      <td>https://www.airbnb.com/rooms/9952</td>\n",
       "      <td>20211009153557</td>\n",
       "      <td>2021-10-11</td>\n",
       "      <td>Paris petit coin douillet</td>\n",
       "      <td>Je suis une dame retraitée, qui propose un agr...</td>\n",
       "      <td>https://a0.muscache.com/pictures/ae822d16-74d2...</td>\n",
       "      <td>33534</td>\n",
       "      <td>https://www.airbnb.com/users/show/33534</td>\n",
       "      <td>Elisabeth</td>\n",
       "      <td>2009-08-24</td>\n",
       "      <td>Paris, Île-de-France, France</td>\n",
       "      <td>t</td>\n",
       "      <td>https://a0.muscache.com/im/pictures/user/4f775...</td>\n",
       "      <td>https://a0.muscache.com/im/pictures/user/4f775...</td>\n",
       "      <td>1.0</td>\n",
       "      <td>1.0</td>\n",
       "      <td>['email', 'phone', 'reviews', 'jumio', 'offlin...</td>\n",
       "      <td>t</td>\n",
       "      <td>t</td>\n",
       "      <td>Popincourt</td>\n",
       "      <td>48.86227</td>\n",
       "      <td>2.37134</td>\n",
       "      <td>Entire rental unit</td>\n",
       "      <td>Entire home/apt</td>\n",
       "      <td>2</td>\n",
       "      <td>1 bath</td>\n",
       "      <td>1.0</td>\n",
       "      <td>[\"Hangers\", \"Stove\", \"Bed linens\", \"Oven\", \"Di...</td>\n",
       "      <td>$80.00</td>\n",
       "      <td>4</td>\n",
       "      <td>31</td>\n",
       "      <td>4.0</td>\n",
       "      <td>4.0</td>\n",
       "      <td>31.0</td>\n",
       "      <td>31.0</td>\n",
       "      <td>4.0</td>\n",
       "      <td>31.0</td>\n",
       "      <td>t</td>\n",
       "      <td>1</td>\n",
       "      <td>1</td>\n",
       "      <td>2</td>\n",
       "      <td>212</td>\n",
       "      <td>2021-10-11</td>\n",
       "      <td>32</td>\n",
       "      <td>7</td>\n",
       "      <td>1</td>\n",
       "      <td>f</td>\n",
       "      <td>1</td>\n",
       "      <td>1</td>\n",
       "      <td>0</td>\n",
       "      <td>0</td>\n",
       "    </tr>\n",
       "  </tbody>\n",
       "</table>\n",
       "</div>"
      ],
      "text/plain": [
       "     id                        listing_url       scrape_id last_scraped  \\\n",
       "0  5396  https://www.airbnb.com/rooms/5396  20211009153557   2021-10-11   \n",
       "1  7397  https://www.airbnb.com/rooms/7397  20211009153557   2021-10-11   \n",
       "2  7964  https://www.airbnb.com/rooms/7964  20211009153557   2021-10-10   \n",
       "3  9359  https://www.airbnb.com/rooms/9359  20211009153557   2021-10-11   \n",
       "4  9952  https://www.airbnb.com/rooms/9952  20211009153557   2021-10-11   \n",
       "\n",
       "                                              name  \\\n",
       "0                   Explore the heart of old Paris   \n",
       "1                 MARAIS - 2ROOMS APT - 2/4 PEOPLE   \n",
       "2                Large & sunny flat with balcony !   \n",
       "3  Cozy, Central Paris: WALK or VELIB EVERYWHERE !   \n",
       "4                        Paris petit coin douillet   \n",
       "\n",
       "                                         description  \\\n",
       "0  Cozy, well-appointed and graciously designed s...   \n",
       "1  VERY CONVENIENT, WITH THE BEST LOCATION !<br /...   \n",
       "2  Very large & nice apartment all for you! <br /...   \n",
       "3  Location! Location! Location! Just bring your ...   \n",
       "4  Je suis une dame retraitée, qui propose un agr...   \n",
       "\n",
       "                                         picture_url  host_id  \\\n",
       "0  https://a0.muscache.com/pictures/52413/f9bf76f...     7903   \n",
       "1  https://a0.muscache.com/pictures/67928287/330b...     2626   \n",
       "2  https://a0.muscache.com/pictures/4471349/6fb3d...    22155   \n",
       "3  https://a0.muscache.com/pictures/c2965945-061f...    28422   \n",
       "4  https://a0.muscache.com/pictures/ae822d16-74d2...    33534   \n",
       "\n",
       "                                  host_url   host_name  host_since  \\\n",
       "0   https://www.airbnb.com/users/show/7903      Borzou  2009-02-14   \n",
       "1   https://www.airbnb.com/users/show/2626      Franck  2008-08-30   \n",
       "2  https://www.airbnb.com/users/show/22155       Anaïs  2009-06-18   \n",
       "3  https://www.airbnb.com/users/show/28422  Bernadette  2009-07-29   \n",
       "4  https://www.airbnb.com/users/show/33534   Elisabeth  2009-08-24   \n",
       "\n",
       "                       host_location host_is_superhost  \\\n",
       "0         İstanbul, İstanbul, Turkey                 f   \n",
       "1       Paris, Île-de-France, France                 t   \n",
       "2       Paris, Île-de-France, France                 f   \n",
       "3  New York, New York, United States                 f   \n",
       "4       Paris, Île-de-France, France                 t   \n",
       "\n",
       "                                  host_thumbnail_url  \\\n",
       "0  https://a0.muscache.com/im/users/7903/profile_...   \n",
       "1  https://a0.muscache.com/im/pictures/user/58f00...   \n",
       "2  https://a0.muscache.com/im/users/22155/profile...   \n",
       "3  https://a0.muscache.com/im/users/28422/profile...   \n",
       "4  https://a0.muscache.com/im/pictures/user/4f775...   \n",
       "\n",
       "                                    host_picture_url  host_listings_count  \\\n",
       "0  https://a0.muscache.com/im/users/7903/profile_...                  1.0   \n",
       "1  https://a0.muscache.com/im/pictures/user/58f00...                  4.0   \n",
       "2  https://a0.muscache.com/im/users/22155/profile...                  0.0   \n",
       "3  https://a0.muscache.com/im/users/28422/profile...                  3.0   \n",
       "4  https://a0.muscache.com/im/pictures/user/4f775...                  1.0   \n",
       "\n",
       "   host_total_listings_count  \\\n",
       "0                        1.0   \n",
       "1                        4.0   \n",
       "2                        0.0   \n",
       "3                        3.0   \n",
       "4                        1.0   \n",
       "\n",
       "                                  host_verifications host_has_profile_pic  \\\n",
       "0  ['email', 'phone', 'facebook', 'google', 'revi...                    t   \n",
       "1  ['email', 'phone', 'reviews', 'jumio', 'offlin...                    t   \n",
       "2  ['email', 'phone', 'reviews', 'jumio', 'offlin...                    t   \n",
       "3  ['email', 'phone', 'reviews', 'jumio', 'offlin...                    t   \n",
       "4  ['email', 'phone', 'reviews', 'jumio', 'offlin...                    t   \n",
       "\n",
       "  host_identity_verified neighbourhood_cleansed  latitude  longitude  \\\n",
       "0                      t         Hôtel-de-Ville  48.85207    2.35871   \n",
       "1                      t         Hôtel-de-Ville  48.85909    2.35315   \n",
       "2                      t                  Opéra  48.87417    2.34245   \n",
       "3                      t                 Louvre  48.85899    2.34735   \n",
       "4                      t             Popincourt  48.86227    2.37134   \n",
       "\n",
       "        property_type        room_type  accommodates bathrooms_text  beds  \\\n",
       "0  Entire rental unit  Entire home/apt             2         1 bath   1.0   \n",
       "1  Entire rental unit  Entire home/apt             4         1 bath   2.0   \n",
       "2  Entire rental unit  Entire home/apt             2         1 bath   1.0   \n",
       "3  Entire rental unit  Entire home/apt             2         1 bath   1.0   \n",
       "4  Entire rental unit  Entire home/apt             2         1 bath   1.0   \n",
       "\n",
       "                                           amenities    price  minimum_nights  \\\n",
       "0  [\"Fire extinguisher\", \"Hangers\", \"Washer\", \"St...  $100.00               2   \n",
       "1  [\"Hangers\", \"Washer\", \"Stove\", \"Bed linens\", \"...  $105.00              10   \n",
       "2  [\"Hangers\", \"Stove\", \"Bed linens\", \"Private pa...  $130.00               6   \n",
       "3  [\"Long term stays allowed\", \"Hair dryer\", \"Kit...   $75.00             180   \n",
       "4  [\"Hangers\", \"Stove\", \"Bed linens\", \"Oven\", \"Di...   $80.00               4   \n",
       "\n",
       "   maximum_nights  minimum_minimum_nights  maximum_minimum_nights  \\\n",
       "0            1125                     2.0                     2.0   \n",
       "1             130                     3.0                    10.0   \n",
       "2             365                     6.0                     6.0   \n",
       "3             365                   180.0                   180.0   \n",
       "4              31                     4.0                     4.0   \n",
       "\n",
       "   minimum_maximum_nights  maximum_maximum_nights  minimum_nights_avg_ntm  \\\n",
       "0                  1125.0                  1125.0                     2.0   \n",
       "1                   130.0                   130.0                     9.9   \n",
       "2                   365.0                   365.0                     6.0   \n",
       "3                   365.0                   365.0                   180.0   \n",
       "4                    31.0                    31.0                     4.0   \n",
       "\n",
       "   maximum_nights_avg_ntm has_availability  availability_30  availability_60  \\\n",
       "0                  1125.0                t                3               25   \n",
       "1                   130.0                t                0                1   \n",
       "2                   365.0                t                0                2   \n",
       "3                   365.0                t                0                0   \n",
       "4                    31.0                t                1                1   \n",
       "\n",
       "   availability_90  availability_365 calendar_last_scraped  number_of_reviews  \\\n",
       "0               55                55            2021-10-11                263   \n",
       "1                3               233            2021-10-11                282   \n",
       "2               18               293            2021-10-10                  6   \n",
       "3                0                58            2021-10-11                  0   \n",
       "4                2               212            2021-10-11                 32   \n",
       "\n",
       "   number_of_reviews_ltm  number_of_reviews_l30d instant_bookable  \\\n",
       "0                     35                       2                f   \n",
       "1                     13                       4                f   \n",
       "2                      0                       0                f   \n",
       "3                      0                       0                f   \n",
       "4                      7                       1                f   \n",
       "\n",
       "   calculated_host_listings_count  \\\n",
       "0                               1   \n",
       "1                               1   \n",
       "2                               1   \n",
       "3                               1   \n",
       "4                               1   \n",
       "\n",
       "   calculated_host_listings_count_entire_homes  \\\n",
       "0                                            1   \n",
       "1                                            1   \n",
       "2                                            1   \n",
       "3                                            1   \n",
       "4                                            1   \n",
       "\n",
       "   calculated_host_listings_count_private_rooms  \\\n",
       "0                                             0   \n",
       "1                                             0   \n",
       "2                                             0   \n",
       "3                                             0   \n",
       "4                                             0   \n",
       "\n",
       "   calculated_host_listings_count_shared_rooms  \n",
       "0                                            0  \n",
       "1                                            0  \n",
       "2                                            0  \n",
       "3                                            0  \n",
       "4                                            0  "
      ]
     },
     "execution_count": 6,
     "metadata": {},
     "output_type": "execute_result"
    }
   ],
   "source": [
    "pd.set_option('max_columns', None)\n",
    "paris_df.head()"
   ]
  },
  {
   "cell_type": "code",
   "execution_count": 7,
   "id": "964bbf17",
   "metadata": {},
   "outputs": [
    {
     "data": {
      "text/html": [
       "<div>\n",
       "<style scoped>\n",
       "    .dataframe tbody tr th:only-of-type {\n",
       "        vertical-align: middle;\n",
       "    }\n",
       "\n",
       "    .dataframe tbody tr th {\n",
       "        vertical-align: top;\n",
       "    }\n",
       "\n",
       "    .dataframe thead th {\n",
       "        text-align: right;\n",
       "    }\n",
       "</style>\n",
       "<table border=\"1\" class=\"dataframe\">\n",
       "  <thead>\n",
       "    <tr style=\"text-align: right;\">\n",
       "      <th></th>\n",
       "      <th>id</th>\n",
       "      <th>scrape_id</th>\n",
       "      <th>host_id</th>\n",
       "      <th>host_listings_count</th>\n",
       "      <th>host_total_listings_count</th>\n",
       "      <th>latitude</th>\n",
       "      <th>longitude</th>\n",
       "      <th>accommodates</th>\n",
       "      <th>beds</th>\n",
       "      <th>minimum_nights</th>\n",
       "      <th>maximum_nights</th>\n",
       "      <th>minimum_minimum_nights</th>\n",
       "      <th>maximum_minimum_nights</th>\n",
       "      <th>minimum_maximum_nights</th>\n",
       "      <th>maximum_maximum_nights</th>\n",
       "      <th>minimum_nights_avg_ntm</th>\n",
       "      <th>maximum_nights_avg_ntm</th>\n",
       "      <th>availability_30</th>\n",
       "      <th>availability_60</th>\n",
       "      <th>availability_90</th>\n",
       "      <th>availability_365</th>\n",
       "      <th>number_of_reviews</th>\n",
       "      <th>number_of_reviews_ltm</th>\n",
       "      <th>number_of_reviews_l30d</th>\n",
       "      <th>calculated_host_listings_count</th>\n",
       "      <th>calculated_host_listings_count_entire_homes</th>\n",
       "      <th>calculated_host_listings_count_private_rooms</th>\n",
       "      <th>calculated_host_listings_count_shared_rooms</th>\n",
       "    </tr>\n",
       "  </thead>\n",
       "  <tbody>\n",
       "    <tr>\n",
       "      <th>count</th>\n",
       "      <td>4.963400e+04</td>\n",
       "      <td>4.963400e+04</td>\n",
       "      <td>4.963400e+04</td>\n",
       "      <td>49606.000000</td>\n",
       "      <td>49606.000000</td>\n",
       "      <td>49634.000000</td>\n",
       "      <td>49634.000000</td>\n",
       "      <td>49634.000000</td>\n",
       "      <td>49052.000000</td>\n",
       "      <td>49634.000000</td>\n",
       "      <td>4.963400e+04</td>\n",
       "      <td>49624.000000</td>\n",
       "      <td>49624.000000</td>\n",
       "      <td>4.962400e+04</td>\n",
       "      <td>4.962400e+04</td>\n",
       "      <td>49624.000000</td>\n",
       "      <td>4.962400e+04</td>\n",
       "      <td>49634.000000</td>\n",
       "      <td>49634.000000</td>\n",
       "      <td>49634.000000</td>\n",
       "      <td>49634.000000</td>\n",
       "      <td>49634.000000</td>\n",
       "      <td>49634.000000</td>\n",
       "      <td>49634.000000</td>\n",
       "      <td>49634.000000</td>\n",
       "      <td>49634.000000</td>\n",
       "      <td>49634.000000</td>\n",
       "      <td>49634.000000</td>\n",
       "    </tr>\n",
       "    <tr>\n",
       "      <th>mean</th>\n",
       "      <td>2.612255e+07</td>\n",
       "      <td>2.021101e+13</td>\n",
       "      <td>9.711188e+07</td>\n",
       "      <td>12.992380</td>\n",
       "      <td>12.992380</td>\n",
       "      <td>48.863998</td>\n",
       "      <td>2.344889</td>\n",
       "      <td>3.055567</td>\n",
       "      <td>1.692204</td>\n",
       "      <td>111.961256</td>\n",
       "      <td>1.000286e+03</td>\n",
       "      <td>111.138381</td>\n",
       "      <td>113.402950</td>\n",
       "      <td>3.905154e+05</td>\n",
       "      <td>9.098377e+05</td>\n",
       "      <td>112.961071</td>\n",
       "      <td>8.248394e+05</td>\n",
       "      <td>4.862917</td>\n",
       "      <td>12.444373</td>\n",
       "      <td>21.356228</td>\n",
       "      <td>100.681569</td>\n",
       "      <td>21.131080</td>\n",
       "      <td>2.789016</td>\n",
       "      <td>0.452089</td>\n",
       "      <td>13.192167</td>\n",
       "      <td>12.459383</td>\n",
       "      <td>0.473385</td>\n",
       "      <td>0.021618</td>\n",
       "    </tr>\n",
       "    <tr>\n",
       "      <th>std</th>\n",
       "      <td>1.583070e+07</td>\n",
       "      <td>0.000000e+00</td>\n",
       "      <td>1.179651e+08</td>\n",
       "      <td>77.278735</td>\n",
       "      <td>77.278735</td>\n",
       "      <td>0.018146</td>\n",
       "      <td>0.033118</td>\n",
       "      <td>1.649358</td>\n",
       "      <td>1.393760</td>\n",
       "      <td>169.898643</td>\n",
       "      <td>4.488877e+04</td>\n",
       "      <td>169.687478</td>\n",
       "      <td>171.900095</td>\n",
       "      <td>2.891815e+07</td>\n",
       "      <td>4.416783e+07</td>\n",
       "      <td>171.628893</td>\n",
       "      <td>4.074739e+07</td>\n",
       "      <td>8.957372</td>\n",
       "      <td>19.953512</td>\n",
       "      <td>31.203345</td>\n",
       "      <td>134.541931</td>\n",
       "      <td>45.624607</td>\n",
       "      <td>11.946425</td>\n",
       "      <td>1.460585</td>\n",
       "      <td>47.381927</td>\n",
       "      <td>47.329952</td>\n",
       "      <td>2.229527</td>\n",
       "      <td>0.327695</td>\n",
       "    </tr>\n",
       "    <tr>\n",
       "      <th>min</th>\n",
       "      <td>5.396000e+03</td>\n",
       "      <td>2.021101e+13</td>\n",
       "      <td>2.626000e+03</td>\n",
       "      <td>0.000000</td>\n",
       "      <td>0.000000</td>\n",
       "      <td>48.812220</td>\n",
       "      <td>2.221440</td>\n",
       "      <td>0.000000</td>\n",
       "      <td>0.000000</td>\n",
       "      <td>1.000000</td>\n",
       "      <td>1.000000e+00</td>\n",
       "      <td>1.000000</td>\n",
       "      <td>1.000000</td>\n",
       "      <td>1.000000e+00</td>\n",
       "      <td>1.000000e+00</td>\n",
       "      <td>1.000000</td>\n",
       "      <td>1.000000e+00</td>\n",
       "      <td>0.000000</td>\n",
       "      <td>0.000000</td>\n",
       "      <td>0.000000</td>\n",
       "      <td>0.000000</td>\n",
       "      <td>0.000000</td>\n",
       "      <td>0.000000</td>\n",
       "      <td>0.000000</td>\n",
       "      <td>1.000000</td>\n",
       "      <td>0.000000</td>\n",
       "      <td>0.000000</td>\n",
       "      <td>0.000000</td>\n",
       "    </tr>\n",
       "    <tr>\n",
       "      <th>25%</th>\n",
       "      <td>1.216652e+07</td>\n",
       "      <td>2.021101e+13</td>\n",
       "      <td>1.321955e+07</td>\n",
       "      <td>1.000000</td>\n",
       "      <td>1.000000</td>\n",
       "      <td>48.850880</td>\n",
       "      <td>2.324130</td>\n",
       "      <td>2.000000</td>\n",
       "      <td>1.000000</td>\n",
       "      <td>2.000000</td>\n",
       "      <td>2.000000e+02</td>\n",
       "      <td>2.000000</td>\n",
       "      <td>2.000000</td>\n",
       "      <td>3.650000e+02</td>\n",
       "      <td>3.650000e+02</td>\n",
       "      <td>2.000000</td>\n",
       "      <td>3.650000e+02</td>\n",
       "      <td>0.000000</td>\n",
       "      <td>0.000000</td>\n",
       "      <td>0.000000</td>\n",
       "      <td>0.000000</td>\n",
       "      <td>1.000000</td>\n",
       "      <td>0.000000</td>\n",
       "      <td>0.000000</td>\n",
       "      <td>1.000000</td>\n",
       "      <td>1.000000</td>\n",
       "      <td>0.000000</td>\n",
       "      <td>0.000000</td>\n",
       "    </tr>\n",
       "    <tr>\n",
       "      <th>50%</th>\n",
       "      <td>2.554130e+07</td>\n",
       "      <td>2.021101e+13</td>\n",
       "      <td>3.876027e+07</td>\n",
       "      <td>1.000000</td>\n",
       "      <td>1.000000</td>\n",
       "      <td>48.865330</td>\n",
       "      <td>2.347985</td>\n",
       "      <td>2.000000</td>\n",
       "      <td>1.000000</td>\n",
       "      <td>4.000000</td>\n",
       "      <td>1.125000e+03</td>\n",
       "      <td>4.000000</td>\n",
       "      <td>4.000000</td>\n",
       "      <td>1.125000e+03</td>\n",
       "      <td>1.125000e+03</td>\n",
       "      <td>4.000000</td>\n",
       "      <td>1.125000e+03</td>\n",
       "      <td>0.000000</td>\n",
       "      <td>0.000000</td>\n",
       "      <td>0.000000</td>\n",
       "      <td>1.000000</td>\n",
       "      <td>5.000000</td>\n",
       "      <td>0.000000</td>\n",
       "      <td>0.000000</td>\n",
       "      <td>1.000000</td>\n",
       "      <td>1.000000</td>\n",
       "      <td>0.000000</td>\n",
       "      <td>0.000000</td>\n",
       "    </tr>\n",
       "    <tr>\n",
       "      <th>75%</th>\n",
       "      <td>4.031879e+07</td>\n",
       "      <td>2.021101e+13</td>\n",
       "      <td>1.437275e+08</td>\n",
       "      <td>2.000000</td>\n",
       "      <td>2.000000</td>\n",
       "      <td>48.878450</td>\n",
       "      <td>2.369280</td>\n",
       "      <td>4.000000</td>\n",
       "      <td>2.000000</td>\n",
       "      <td>365.000000</td>\n",
       "      <td>1.125000e+03</td>\n",
       "      <td>365.000000</td>\n",
       "      <td>365.000000</td>\n",
       "      <td>1.125000e+03</td>\n",
       "      <td>1.125000e+03</td>\n",
       "      <td>365.000000</td>\n",
       "      <td>1.125000e+03</td>\n",
       "      <td>5.000000</td>\n",
       "      <td>21.000000</td>\n",
       "      <td>40.000000</td>\n",
       "      <td>221.000000</td>\n",
       "      <td>21.000000</td>\n",
       "      <td>2.000000</td>\n",
       "      <td>0.000000</td>\n",
       "      <td>2.000000</td>\n",
       "      <td>1.000000</td>\n",
       "      <td>0.000000</td>\n",
       "      <td>0.000000</td>\n",
       "    </tr>\n",
       "    <tr>\n",
       "      <th>max</th>\n",
       "      <td>5.269672e+07</td>\n",
       "      <td>2.021101e+13</td>\n",
       "      <td>4.263328e+08</td>\n",
       "      <td>1105.000000</td>\n",
       "      <td>1105.000000</td>\n",
       "      <td>48.905690</td>\n",
       "      <td>2.467120</td>\n",
       "      <td>16.000000</td>\n",
       "      <td>90.000000</td>\n",
       "      <td>9999.000000</td>\n",
       "      <td>1.000000e+07</td>\n",
       "      <td>9999.000000</td>\n",
       "      <td>9999.000000</td>\n",
       "      <td>2.147484e+09</td>\n",
       "      <td>2.147484e+09</td>\n",
       "      <td>9999.000000</td>\n",
       "      <td>2.147484e+09</td>\n",
       "      <td>30.000000</td>\n",
       "      <td>60.000000</td>\n",
       "      <td>90.000000</td>\n",
       "      <td>365.000000</td>\n",
       "      <td>1711.000000</td>\n",
       "      <td>1644.000000</td>\n",
       "      <td>110.000000</td>\n",
       "      <td>382.000000</td>\n",
       "      <td>382.000000</td>\n",
       "      <td>30.000000</td>\n",
       "      <td>10.000000</td>\n",
       "    </tr>\n",
       "  </tbody>\n",
       "</table>\n",
       "</div>"
      ],
      "text/plain": [
       "                 id     scrape_id       host_id  host_listings_count  \\\n",
       "count  4.963400e+04  4.963400e+04  4.963400e+04         49606.000000   \n",
       "mean   2.612255e+07  2.021101e+13  9.711188e+07            12.992380   \n",
       "std    1.583070e+07  0.000000e+00  1.179651e+08            77.278735   \n",
       "min    5.396000e+03  2.021101e+13  2.626000e+03             0.000000   \n",
       "25%    1.216652e+07  2.021101e+13  1.321955e+07             1.000000   \n",
       "50%    2.554130e+07  2.021101e+13  3.876027e+07             1.000000   \n",
       "75%    4.031879e+07  2.021101e+13  1.437275e+08             2.000000   \n",
       "max    5.269672e+07  2.021101e+13  4.263328e+08          1105.000000   \n",
       "\n",
       "       host_total_listings_count      latitude     longitude  accommodates  \\\n",
       "count               49606.000000  49634.000000  49634.000000  49634.000000   \n",
       "mean                   12.992380     48.863998      2.344889      3.055567   \n",
       "std                    77.278735      0.018146      0.033118      1.649358   \n",
       "min                     0.000000     48.812220      2.221440      0.000000   \n",
       "25%                     1.000000     48.850880      2.324130      2.000000   \n",
       "50%                     1.000000     48.865330      2.347985      2.000000   \n",
       "75%                     2.000000     48.878450      2.369280      4.000000   \n",
       "max                  1105.000000     48.905690      2.467120     16.000000   \n",
       "\n",
       "               beds  minimum_nights  maximum_nights  minimum_minimum_nights  \\\n",
       "count  49052.000000    49634.000000    4.963400e+04            49624.000000   \n",
       "mean       1.692204      111.961256    1.000286e+03              111.138381   \n",
       "std        1.393760      169.898643    4.488877e+04              169.687478   \n",
       "min        0.000000        1.000000    1.000000e+00                1.000000   \n",
       "25%        1.000000        2.000000    2.000000e+02                2.000000   \n",
       "50%        1.000000        4.000000    1.125000e+03                4.000000   \n",
       "75%        2.000000      365.000000    1.125000e+03              365.000000   \n",
       "max       90.000000     9999.000000    1.000000e+07             9999.000000   \n",
       "\n",
       "       maximum_minimum_nights  minimum_maximum_nights  maximum_maximum_nights  \\\n",
       "count            49624.000000            4.962400e+04            4.962400e+04   \n",
       "mean               113.402950            3.905154e+05            9.098377e+05   \n",
       "std                171.900095            2.891815e+07            4.416783e+07   \n",
       "min                  1.000000            1.000000e+00            1.000000e+00   \n",
       "25%                  2.000000            3.650000e+02            3.650000e+02   \n",
       "50%                  4.000000            1.125000e+03            1.125000e+03   \n",
       "75%                365.000000            1.125000e+03            1.125000e+03   \n",
       "max               9999.000000            2.147484e+09            2.147484e+09   \n",
       "\n",
       "       minimum_nights_avg_ntm  maximum_nights_avg_ntm  availability_30  \\\n",
       "count            49624.000000            4.962400e+04     49634.000000   \n",
       "mean               112.961071            8.248394e+05         4.862917   \n",
       "std                171.628893            4.074739e+07         8.957372   \n",
       "min                  1.000000            1.000000e+00         0.000000   \n",
       "25%                  2.000000            3.650000e+02         0.000000   \n",
       "50%                  4.000000            1.125000e+03         0.000000   \n",
       "75%                365.000000            1.125000e+03         5.000000   \n",
       "max               9999.000000            2.147484e+09        30.000000   \n",
       "\n",
       "       availability_60  availability_90  availability_365  number_of_reviews  \\\n",
       "count     49634.000000     49634.000000      49634.000000       49634.000000   \n",
       "mean         12.444373        21.356228        100.681569          21.131080   \n",
       "std          19.953512        31.203345        134.541931          45.624607   \n",
       "min           0.000000         0.000000          0.000000           0.000000   \n",
       "25%           0.000000         0.000000          0.000000           1.000000   \n",
       "50%           0.000000         0.000000          1.000000           5.000000   \n",
       "75%          21.000000        40.000000        221.000000          21.000000   \n",
       "max          60.000000        90.000000        365.000000        1711.000000   \n",
       "\n",
       "       number_of_reviews_ltm  number_of_reviews_l30d  \\\n",
       "count           49634.000000            49634.000000   \n",
       "mean                2.789016                0.452089   \n",
       "std                11.946425                1.460585   \n",
       "min                 0.000000                0.000000   \n",
       "25%                 0.000000                0.000000   \n",
       "50%                 0.000000                0.000000   \n",
       "75%                 2.000000                0.000000   \n",
       "max              1644.000000              110.000000   \n",
       "\n",
       "       calculated_host_listings_count  \\\n",
       "count                    49634.000000   \n",
       "mean                        13.192167   \n",
       "std                         47.381927   \n",
       "min                          1.000000   \n",
       "25%                          1.000000   \n",
       "50%                          1.000000   \n",
       "75%                          2.000000   \n",
       "max                        382.000000   \n",
       "\n",
       "       calculated_host_listings_count_entire_homes  \\\n",
       "count                                 49634.000000   \n",
       "mean                                     12.459383   \n",
       "std                                      47.329952   \n",
       "min                                       0.000000   \n",
       "25%                                       1.000000   \n",
       "50%                                       1.000000   \n",
       "75%                                       1.000000   \n",
       "max                                     382.000000   \n",
       "\n",
       "       calculated_host_listings_count_private_rooms  \\\n",
       "count                                  49634.000000   \n",
       "mean                                       0.473385   \n",
       "std                                        2.229527   \n",
       "min                                        0.000000   \n",
       "25%                                        0.000000   \n",
       "50%                                        0.000000   \n",
       "75%                                        0.000000   \n",
       "max                                       30.000000   \n",
       "\n",
       "       calculated_host_listings_count_shared_rooms  \n",
       "count                                 49634.000000  \n",
       "mean                                      0.021618  \n",
       "std                                       0.327695  \n",
       "min                                       0.000000  \n",
       "25%                                       0.000000  \n",
       "50%                                       0.000000  \n",
       "75%                                       0.000000  \n",
       "max                                      10.000000  "
      ]
     },
     "execution_count": 7,
     "metadata": {},
     "output_type": "execute_result"
    }
   ],
   "source": [
    "paris_df.describe()"
   ]
  },
  {
   "cell_type": "code",
   "execution_count": 8,
   "id": "40c7919a",
   "metadata": {},
   "outputs": [
    {
     "data": {
      "text/plain": [
       "38581"
      ]
     },
     "execution_count": 8,
     "metadata": {},
     "output_type": "execute_result"
    }
   ],
   "source": [
    "# checking how many hosts are in the dataset and what would be a cost of one-hot encoding of this variable\n",
    "len(pd.unique(paris_df['host_id']))"
   ]
  },
  {
   "cell_type": "code",
   "execution_count": 9,
   "id": "1d206614",
   "metadata": {},
   "outputs": [
    {
     "data": {
      "text/plain": [
       "count                            49514\n",
       "unique                            2217\n",
       "top       Paris, Île-de-France, France\n",
       "freq                             35669\n",
       "Name: host_location, dtype: object"
      ]
     },
     "execution_count": 9,
     "metadata": {},
     "output_type": "execute_result"
    }
   ],
   "source": [
    "# checking from how many locations hosts come\n",
    "paris_df['host_location'].describe()"
   ]
  },
  {
   "cell_type": "code",
   "execution_count": 10,
   "id": "81eb215a",
   "metadata": {},
   "outputs": [
    {
     "data": {
      "text/plain": [
       "count     49606\n",
       "unique        2\n",
       "top           t\n",
       "freq      49384\n",
       "Name: host_has_profile_pic, dtype: object"
      ]
     },
     "execution_count": 10,
     "metadata": {},
     "output_type": "execute_result"
    }
   ],
   "source": [
    "# it can be expected, that most of the hosts have pictures - checking if ones with no picture are outliers or more \n",
    "# significant group\n",
    "paris_df['host_has_profile_pic'].describe()"
   ]
  },
  {
   "cell_type": "code",
   "execution_count": 11,
   "id": "fc34aa9f",
   "metadata": {},
   "outputs": [
    {
     "data": {
      "text/plain": [
       "count     49606\n",
       "unique        2\n",
       "top           t\n",
       "freq      39744\n",
       "Name: host_identity_verified, dtype: object"
      ]
     },
     "execution_count": 11,
     "metadata": {},
     "output_type": "execute_result"
    }
   ],
   "source": [
    "# the same as above\n",
    "paris_df['host_identity_verified'].describe()"
   ]
  },
  {
   "cell_type": "code",
   "execution_count": 12,
   "id": "373b30af",
   "metadata": {},
   "outputs": [
    {
     "data": {
      "text/plain": [
       "count                  49634\n",
       "unique                    65\n",
       "top       Entire rental unit\n",
       "freq                   37799\n",
       "Name: property_type, dtype: object"
      ]
     },
     "execution_count": 12,
     "metadata": {},
     "output_type": "execute_result"
    }
   ],
   "source": [
    "# checking how many distinct values are in the column and if they could be one-hot encoded, used for text mining or they\n",
    "# would not have a strong value for further analysis \n",
    "paris_df['property_type'].describe()"
   ]
  },
  {
   "cell_type": "code",
   "execution_count": 13,
   "id": "e1a73103",
   "metadata": {},
   "outputs": [
    {
     "data": {
      "text/plain": [
       "count                           49634\n",
       "unique                          40351\n",
       "top       [\"Long term stays allowed\"]\n",
       "freq                              168\n",
       "Name: amenities, dtype: object"
      ]
     },
     "execution_count": 13,
     "metadata": {},
     "output_type": "execute_result"
    }
   ],
   "source": [
    "paris_df['amenities'].describe()"
   ]
  },
  {
   "cell_type": "code",
   "execution_count": 14,
   "id": "c277b6eb",
   "metadata": {},
   "outputs": [
    {
     "data": {
      "text/plain": [
       "count     49634\n",
       "unique        2\n",
       "top           t\n",
       "freq      48737\n",
       "Name: has_availability, dtype: object"
      ]
     },
     "execution_count": 14,
     "metadata": {},
     "output_type": "execute_result"
    }
   ],
   "source": [
    "paris_df['has_availability'].describe()"
   ]
  },
  {
   "cell_type": "code",
   "execution_count": 15,
   "id": "95abfc44",
   "metadata": {},
   "outputs": [],
   "source": [
    "# list of columns that will be removed from dataset, based on planned investigation; numerical data and texts that can be\n",
    "# used for text mining will be kept; 'id' will be kept for pulling data that has been initially removed - in case that would\n",
    "# be needed; analysis has been supported with use of data dictionary provided: \n",
    "# https://docs.google.com/spreadsheets/d/1iWCNJcSutYqpULSQHlNyGInUvHg2BoUGoNRIGa6Szc4/edit#gid=982310896\n",
    "columns_to_drop = [\n",
    "    'listing_url', 'scrape_id', 'picture_url', 'host_id', 'host_url', 'host_name', 'host_thumbnail_url', 'host_picture_url',\n",
    "    'host_total_listings_count', 'host_verifications', 'host_has_profile_pic',  'neighbourhood_cleansed', 'property_type',\n",
    "    'minimum_minimum_nights', 'maximum_minimum_nights', 'minimum_maximum_nights', 'maximum_maximum_nights',\n",
    "    'minimum_nights_avg_ntm', 'maximum_nights_avg_ntm', 'has_availability', 'availability_30', 'availability_60',\n",
    "    'availability_90', 'availability_365', 'calendar_last_scraped'\n",
    "]"
   ]
  },
  {
   "cell_type": "code",
   "execution_count": 16,
   "id": "fdef87b8",
   "metadata": {},
   "outputs": [],
   "source": [
    "paris_df.drop(columns=columns_to_drop, inplace=True)"
   ]
  },
  {
   "cell_type": "code",
   "execution_count": 17,
   "id": "15596115",
   "metadata": {},
   "outputs": [
    {
     "data": {
      "text/html": [
       "<div>\n",
       "<style scoped>\n",
       "    .dataframe tbody tr th:only-of-type {\n",
       "        vertical-align: middle;\n",
       "    }\n",
       "\n",
       "    .dataframe tbody tr th {\n",
       "        vertical-align: top;\n",
       "    }\n",
       "\n",
       "    .dataframe thead th {\n",
       "        text-align: right;\n",
       "    }\n",
       "</style>\n",
       "<table border=\"1\" class=\"dataframe\">\n",
       "  <thead>\n",
       "    <tr style=\"text-align: right;\">\n",
       "      <th></th>\n",
       "      <th>id</th>\n",
       "      <th>last_scraped</th>\n",
       "      <th>name</th>\n",
       "      <th>description</th>\n",
       "      <th>host_since</th>\n",
       "      <th>host_location</th>\n",
       "      <th>host_is_superhost</th>\n",
       "      <th>host_listings_count</th>\n",
       "      <th>host_identity_verified</th>\n",
       "      <th>latitude</th>\n",
       "      <th>longitude</th>\n",
       "      <th>room_type</th>\n",
       "      <th>accommodates</th>\n",
       "      <th>bathrooms_text</th>\n",
       "      <th>beds</th>\n",
       "      <th>amenities</th>\n",
       "      <th>price</th>\n",
       "      <th>minimum_nights</th>\n",
       "      <th>maximum_nights</th>\n",
       "      <th>number_of_reviews</th>\n",
       "      <th>number_of_reviews_ltm</th>\n",
       "      <th>number_of_reviews_l30d</th>\n",
       "      <th>instant_bookable</th>\n",
       "      <th>calculated_host_listings_count</th>\n",
       "      <th>calculated_host_listings_count_entire_homes</th>\n",
       "      <th>calculated_host_listings_count_private_rooms</th>\n",
       "      <th>calculated_host_listings_count_shared_rooms</th>\n",
       "    </tr>\n",
       "  </thead>\n",
       "  <tbody>\n",
       "    <tr>\n",
       "      <th>0</th>\n",
       "      <td>5396</td>\n",
       "      <td>2021-10-11</td>\n",
       "      <td>Explore the heart of old Paris</td>\n",
       "      <td>Cozy, well-appointed and graciously designed s...</td>\n",
       "      <td>2009-02-14</td>\n",
       "      <td>İstanbul, İstanbul, Turkey</td>\n",
       "      <td>f</td>\n",
       "      <td>1.0</td>\n",
       "      <td>t</td>\n",
       "      <td>48.85207</td>\n",
       "      <td>2.35871</td>\n",
       "      <td>Entire home/apt</td>\n",
       "      <td>2</td>\n",
       "      <td>1 bath</td>\n",
       "      <td>1.0</td>\n",
       "      <td>[\"Fire extinguisher\", \"Hangers\", \"Washer\", \"St...</td>\n",
       "      <td>$100.00</td>\n",
       "      <td>2</td>\n",
       "      <td>1125</td>\n",
       "      <td>263</td>\n",
       "      <td>35</td>\n",
       "      <td>2</td>\n",
       "      <td>f</td>\n",
       "      <td>1</td>\n",
       "      <td>1</td>\n",
       "      <td>0</td>\n",
       "      <td>0</td>\n",
       "    </tr>\n",
       "    <tr>\n",
       "      <th>1</th>\n",
       "      <td>7397</td>\n",
       "      <td>2021-10-11</td>\n",
       "      <td>MARAIS - 2ROOMS APT - 2/4 PEOPLE</td>\n",
       "      <td>VERY CONVENIENT, WITH THE BEST LOCATION !&lt;br /...</td>\n",
       "      <td>2008-08-30</td>\n",
       "      <td>Paris, Île-de-France, France</td>\n",
       "      <td>t</td>\n",
       "      <td>4.0</td>\n",
       "      <td>t</td>\n",
       "      <td>48.85909</td>\n",
       "      <td>2.35315</td>\n",
       "      <td>Entire home/apt</td>\n",
       "      <td>4</td>\n",
       "      <td>1 bath</td>\n",
       "      <td>2.0</td>\n",
       "      <td>[\"Hangers\", \"Washer\", \"Stove\", \"Bed linens\", \"...</td>\n",
       "      <td>$105.00</td>\n",
       "      <td>10</td>\n",
       "      <td>130</td>\n",
       "      <td>282</td>\n",
       "      <td>13</td>\n",
       "      <td>4</td>\n",
       "      <td>f</td>\n",
       "      <td>1</td>\n",
       "      <td>1</td>\n",
       "      <td>0</td>\n",
       "      <td>0</td>\n",
       "    </tr>\n",
       "    <tr>\n",
       "      <th>2</th>\n",
       "      <td>7964</td>\n",
       "      <td>2021-10-10</td>\n",
       "      <td>Large &amp; sunny flat with balcony !</td>\n",
       "      <td>Very large &amp; nice apartment all for you! &lt;br /...</td>\n",
       "      <td>2009-06-18</td>\n",
       "      <td>Paris, Île-de-France, France</td>\n",
       "      <td>f</td>\n",
       "      <td>0.0</td>\n",
       "      <td>t</td>\n",
       "      <td>48.87417</td>\n",
       "      <td>2.34245</td>\n",
       "      <td>Entire home/apt</td>\n",
       "      <td>2</td>\n",
       "      <td>1 bath</td>\n",
       "      <td>1.0</td>\n",
       "      <td>[\"Hangers\", \"Stove\", \"Bed linens\", \"Private pa...</td>\n",
       "      <td>$130.00</td>\n",
       "      <td>6</td>\n",
       "      <td>365</td>\n",
       "      <td>6</td>\n",
       "      <td>0</td>\n",
       "      <td>0</td>\n",
       "      <td>f</td>\n",
       "      <td>1</td>\n",
       "      <td>1</td>\n",
       "      <td>0</td>\n",
       "      <td>0</td>\n",
       "    </tr>\n",
       "    <tr>\n",
       "      <th>3</th>\n",
       "      <td>9359</td>\n",
       "      <td>2021-10-11</td>\n",
       "      <td>Cozy, Central Paris: WALK or VELIB EVERYWHERE !</td>\n",
       "      <td>Location! Location! Location! Just bring your ...</td>\n",
       "      <td>2009-07-29</td>\n",
       "      <td>New York, New York, United States</td>\n",
       "      <td>f</td>\n",
       "      <td>3.0</td>\n",
       "      <td>t</td>\n",
       "      <td>48.85899</td>\n",
       "      <td>2.34735</td>\n",
       "      <td>Entire home/apt</td>\n",
       "      <td>2</td>\n",
       "      <td>1 bath</td>\n",
       "      <td>1.0</td>\n",
       "      <td>[\"Long term stays allowed\", \"Hair dryer\", \"Kit...</td>\n",
       "      <td>$75.00</td>\n",
       "      <td>180</td>\n",
       "      <td>365</td>\n",
       "      <td>0</td>\n",
       "      <td>0</td>\n",
       "      <td>0</td>\n",
       "      <td>f</td>\n",
       "      <td>1</td>\n",
       "      <td>1</td>\n",
       "      <td>0</td>\n",
       "      <td>0</td>\n",
       "    </tr>\n",
       "    <tr>\n",
       "      <th>4</th>\n",
       "      <td>9952</td>\n",
       "      <td>2021-10-11</td>\n",
       "      <td>Paris petit coin douillet</td>\n",
       "      <td>Je suis une dame retraitée, qui propose un agr...</td>\n",
       "      <td>2009-08-24</td>\n",
       "      <td>Paris, Île-de-France, France</td>\n",
       "      <td>t</td>\n",
       "      <td>1.0</td>\n",
       "      <td>t</td>\n",
       "      <td>48.86227</td>\n",
       "      <td>2.37134</td>\n",
       "      <td>Entire home/apt</td>\n",
       "      <td>2</td>\n",
       "      <td>1 bath</td>\n",
       "      <td>1.0</td>\n",
       "      <td>[\"Hangers\", \"Stove\", \"Bed linens\", \"Oven\", \"Di...</td>\n",
       "      <td>$80.00</td>\n",
       "      <td>4</td>\n",
       "      <td>31</td>\n",
       "      <td>32</td>\n",
       "      <td>7</td>\n",
       "      <td>1</td>\n",
       "      <td>f</td>\n",
       "      <td>1</td>\n",
       "      <td>1</td>\n",
       "      <td>0</td>\n",
       "      <td>0</td>\n",
       "    </tr>\n",
       "  </tbody>\n",
       "</table>\n",
       "</div>"
      ],
      "text/plain": [
       "     id last_scraped                                             name  \\\n",
       "0  5396   2021-10-11                   Explore the heart of old Paris   \n",
       "1  7397   2021-10-11                 MARAIS - 2ROOMS APT - 2/4 PEOPLE   \n",
       "2  7964   2021-10-10                Large & sunny flat with balcony !   \n",
       "3  9359   2021-10-11  Cozy, Central Paris: WALK or VELIB EVERYWHERE !   \n",
       "4  9952   2021-10-11                        Paris petit coin douillet   \n",
       "\n",
       "                                         description  host_since  \\\n",
       "0  Cozy, well-appointed and graciously designed s...  2009-02-14   \n",
       "1  VERY CONVENIENT, WITH THE BEST LOCATION !<br /...  2008-08-30   \n",
       "2  Very large & nice apartment all for you! <br /...  2009-06-18   \n",
       "3  Location! Location! Location! Just bring your ...  2009-07-29   \n",
       "4  Je suis une dame retraitée, qui propose un agr...  2009-08-24   \n",
       "\n",
       "                       host_location host_is_superhost  host_listings_count  \\\n",
       "0         İstanbul, İstanbul, Turkey                 f                  1.0   \n",
       "1       Paris, Île-de-France, France                 t                  4.0   \n",
       "2       Paris, Île-de-France, France                 f                  0.0   \n",
       "3  New York, New York, United States                 f                  3.0   \n",
       "4       Paris, Île-de-France, France                 t                  1.0   \n",
       "\n",
       "  host_identity_verified  latitude  longitude        room_type  accommodates  \\\n",
       "0                      t  48.85207    2.35871  Entire home/apt             2   \n",
       "1                      t  48.85909    2.35315  Entire home/apt             4   \n",
       "2                      t  48.87417    2.34245  Entire home/apt             2   \n",
       "3                      t  48.85899    2.34735  Entire home/apt             2   \n",
       "4                      t  48.86227    2.37134  Entire home/apt             2   \n",
       "\n",
       "  bathrooms_text  beds                                          amenities  \\\n",
       "0         1 bath   1.0  [\"Fire extinguisher\", \"Hangers\", \"Washer\", \"St...   \n",
       "1         1 bath   2.0  [\"Hangers\", \"Washer\", \"Stove\", \"Bed linens\", \"...   \n",
       "2         1 bath   1.0  [\"Hangers\", \"Stove\", \"Bed linens\", \"Private pa...   \n",
       "3         1 bath   1.0  [\"Long term stays allowed\", \"Hair dryer\", \"Kit...   \n",
       "4         1 bath   1.0  [\"Hangers\", \"Stove\", \"Bed linens\", \"Oven\", \"Di...   \n",
       "\n",
       "     price  minimum_nights  maximum_nights  number_of_reviews  \\\n",
       "0  $100.00               2            1125                263   \n",
       "1  $105.00              10             130                282   \n",
       "2  $130.00               6             365                  6   \n",
       "3   $75.00             180             365                  0   \n",
       "4   $80.00               4              31                 32   \n",
       "\n",
       "   number_of_reviews_ltm  number_of_reviews_l30d instant_bookable  \\\n",
       "0                     35                       2                f   \n",
       "1                     13                       4                f   \n",
       "2                      0                       0                f   \n",
       "3                      0                       0                f   \n",
       "4                      7                       1                f   \n",
       "\n",
       "   calculated_host_listings_count  \\\n",
       "0                               1   \n",
       "1                               1   \n",
       "2                               1   \n",
       "3                               1   \n",
       "4                               1   \n",
       "\n",
       "   calculated_host_listings_count_entire_homes  \\\n",
       "0                                            1   \n",
       "1                                            1   \n",
       "2                                            1   \n",
       "3                                            1   \n",
       "4                                            1   \n",
       "\n",
       "   calculated_host_listings_count_private_rooms  \\\n",
       "0                                             0   \n",
       "1                                             0   \n",
       "2                                             0   \n",
       "3                                             0   \n",
       "4                                             0   \n",
       "\n",
       "   calculated_host_listings_count_shared_rooms  \n",
       "0                                            0  \n",
       "1                                            0  \n",
       "2                                            0  \n",
       "3                                            0  \n",
       "4                                            0  "
      ]
     },
     "execution_count": 17,
     "metadata": {},
     "output_type": "execute_result"
    }
   ],
   "source": [
    "# another look at dataset\n",
    "pd.set_option('max_columns', None)\n",
    "paris_df.head()"
   ]
  },
  {
   "cell_type": "code",
   "execution_count": 18,
   "id": "63f53ef2",
   "metadata": {},
   "outputs": [],
   "source": [
    "# This section is intended to obtain city districts from coordinates, using geopy library; originally reverse geocoding -\n",
    "# which is a relevant method for this task - has limitations: 1 request/second; ignoring this limit will cause blocking IP\n",
    "# address in service; applying this limit would extend pulling data to tens of hours, which is inefficient. Running\n",
    "# Nominatim service locally would possibly improve efficiency both by improving requests response time and removing limits,\n",
    "# but I've decided to not focus on local Nominatim service configuration, as it exceeds this excercise expectations. Below \n",
    "# code is a scratch, that can be used to pull data from original Nominatim service, but   i t   d o e s n ' t   \n",
    "# r e s p e c t   l i m i t s !   It will cause blocking an IP in service! See geopy documentation to learn limits \n",
    "# configuration\n",
    "\n",
    "# from geopy.geocoders import Nominatim\n",
    "# geolocator = Nominatim(user_agent=\"geoapiExercises\")\n",
    "\n",
    "# reverse geocoding uses coordinates merged into one string:\n",
    "# paris_df = paris_df.astype({'latitude': 'str', 'longitude': 'str'})\n",
    "# paris_df['location_details'] = paris_df['latitude'] + \", \" + paris_df['longitude']\n",
    "\n",
    "# pulling address details object from Nominatim\n",
    "# paris_df['location_details'] = paris_df['location_details'].apply(lambda row: geolocator.reverse(row))\n",
    "\n",
    "# unpacking district info from address; note that in different cities district may be placed under different keys:\n",
    "# paris_df['location_details'] = paris_df['location_details'].apply(lambda row: row.raw)\n",
    "# paris_df['location_details'] = paris_df['location_details'].apply(lambda row: row['address'])\n",
    "# paris_df['location_details'] = paris_df['location_details'].apply(lambda row: row.get('suburb'))"
   ]
  },
  {
   "cell_type": "code",
   "execution_count": 19,
   "id": "f22fb359",
   "metadata": {},
   "outputs": [],
   "source": [
    "# recoding \"t/f\" values with 1 and 0\n",
    "def recode_values(value):\n",
    "    if value == \"t\":\n",
    "        return 1\n",
    "    else:\n",
    "        return 0"
   ]
  },
  {
   "cell_type": "code",
   "execution_count": 20,
   "id": "d3598c7e",
   "metadata": {},
   "outputs": [],
   "source": [
    "paris_df['host_is_superhost'] = paris_df['host_is_superhost'].apply(recode_values)\n",
    "paris_df['host_identity_verified'] = paris_df['host_identity_verified'].apply(recode_values)\n",
    "paris_df['instant_bookable'] = paris_df['instant_bookable'].apply(recode_values)"
   ]
  },
  {
   "cell_type": "code",
   "execution_count": 21,
   "id": "79cd2957",
   "metadata": {},
   "outputs": [],
   "source": [
    "# recoding \"host_location\" into \"local_host\" variable:\n",
    "def recode_local_host(value):\n",
    "    if value == 'Paris, Île-de-France, France':\n",
    "        return 1\n",
    "    else:\n",
    "        return 0"
   ]
  },
  {
   "cell_type": "code",
   "execution_count": 22,
   "id": "255fbfc1",
   "metadata": {},
   "outputs": [],
   "source": [
    "paris_df['local_host'] = paris_df['host_location'].apply(recode_local_host)\n",
    "paris_df.drop(columns='host_location', inplace=True)"
   ]
  },
  {
   "cell_type": "code",
   "execution_count": 23,
   "id": "128f359f",
   "metadata": {},
   "outputs": [
    {
     "name": "stdout",
     "output_type": "stream",
     "text": [
      "['Entire home/apt' 'Private room' 'Shared room' 'Hotel room']\n",
      "['1 bath' '1 private bath' '1.5 baths' '2 baths' '1 shared bath'\n",
      " '1.5 shared baths' nan '2.5 baths' '2 shared baths' '4 baths' 'Half-bath'\n",
      " '3 baths' '3.5 baths' '4.5 baths' 'Shared half-bath' '7 shared baths'\n",
      " '0 shared baths' '0 baths' '5 baths' 'Private half-bath'\n",
      " '2.5 shared baths' '6.5 shared baths' '6 baths' '8 baths'\n",
      " '3 shared baths' '7 baths' '50 baths' '6 shared baths' '5.5 baths'\n",
      " '3.5 shared baths' '6.5 baths' '8.5 baths' '29 baths' '23 baths']\n"
     ]
    }
   ],
   "source": [
    "# some columns with categories or embedded numerical data need to be transformed into plain numerical data, so they can be\n",
    "# used in analysis\n",
    "print(pd.unique(paris_df['room_type']))\n",
    "print(pd.unique(paris_df['bathrooms_text']))"
   ]
  },
  {
   "cell_type": "code",
   "execution_count": 24,
   "id": "c7364e58",
   "metadata": {},
   "outputs": [],
   "source": [
    "# room_type values to be transformed into columns with binary values\n",
    "binaries = pd.get_dummies(paris_df['room_type'])\n",
    "paris_df = pd.concat((paris_df, binaries), axis=1)\n",
    "paris_df.drop(columns='room_type', inplace=True)"
   ]
  },
  {
   "cell_type": "code",
   "execution_count": 25,
   "id": "350c395a",
   "metadata": {},
   "outputs": [],
   "source": [
    "# since number of bathrooms seems to not reflect the number of bathrooms assigned to the room (values from 0.5 up to dozens\n",
    "# or even tens) only information regarding shared or private bathroom will be considered (assuming that bathroom with no\n",
    "# adjective will be considered as a private one). Private is 1 and shared is 0.\n",
    "def bathroom(value):\n",
    "    if \"hared\" in value:  # simply solves problem of capital \"S\" in word \"Shared\" without additional operations ;)\n",
    "        return 0\n",
    "    elif value == \"0\":\n",
    "        return 0    \n",
    "    else:\n",
    "        return 1"
   ]
  },
  {
   "cell_type": "code",
   "execution_count": 26,
   "id": "d84b3f1b",
   "metadata": {},
   "outputs": [],
   "source": [
    "# here bathrooms text info will be replaced with with numerical value for not shared bathroom assigned to each offer\n",
    "paris_df['bathrooms_text'] = paris_df['bathrooms_text'].fillna(0)\n",
    "paris_df['bathrooms_text'] = paris_df['bathrooms_text'].astype(str)\n",
    "paris_df['bathrooms_text'] = paris_df['bathrooms_text'].apply(bathroom)\n",
    "paris_df.drop(columns='bathrooms_text', inplace=True)"
   ]
  },
  {
   "cell_type": "code",
   "execution_count": 27,
   "id": "f6748bed",
   "metadata": {},
   "outputs": [],
   "source": [
    "# fixing obtained columns names\n",
    "cols_replace = {\n",
    "    'Entire home/apt': 'entire_home_apt', 'Hotel room': 'hotel_room', 'Private room': 'private_room', \n",
    "    'Shared room': 'shared_room'\n",
    "}\n",
    "\n",
    "paris_df.rename(columns=cols_replace, inplace=True)"
   ]
  },
  {
   "cell_type": "code",
   "execution_count": 28,
   "id": "7d805a7f",
   "metadata": {},
   "outputs": [],
   "source": [
    "# date values are transformed into time difference between event occurence and time of pulling dataset from source,\n",
    "# expressed in days\n",
    "\n",
    "paris_df['last_scraped'] = pd.to_datetime(paris_df['last_scraped'], dayfirst=True)\n",
    "paris_df['host_since'] = pd.to_datetime(paris_df['host_since'], dayfirst=True)\n",
    "\n",
    "paris_df['host_days'] = (paris_df['last_scraped'] - paris_df['host_since']).dt.days\n",
    "\n",
    "paris_df.drop(columns=['host_since', 'last_scraped'], inplace=True)"
   ]
  },
  {
   "cell_type": "markdown",
   "id": "784c61ab",
   "metadata": {},
   "source": [
    "Investigating variables with blanks for chooosing the method for filling them"
   ]
  },
  {
   "cell_type": "code",
   "execution_count": 29,
   "id": "e1ba2ab3",
   "metadata": {},
   "outputs": [
    {
     "data": {
      "text/plain": [
       "id                                              False\n",
       "name                                             True\n",
       "description                                      True\n",
       "host_is_superhost                               False\n",
       "host_listings_count                              True\n",
       "host_identity_verified                          False\n",
       "latitude                                        False\n",
       "longitude                                       False\n",
       "accommodates                                    False\n",
       "beds                                             True\n",
       "amenities                                       False\n",
       "price                                           False\n",
       "minimum_nights                                  False\n",
       "maximum_nights                                  False\n",
       "number_of_reviews                               False\n",
       "number_of_reviews_ltm                           False\n",
       "number_of_reviews_l30d                          False\n",
       "instant_bookable                                False\n",
       "calculated_host_listings_count                  False\n",
       "calculated_host_listings_count_entire_homes     False\n",
       "calculated_host_listings_count_private_rooms    False\n",
       "calculated_host_listings_count_shared_rooms     False\n",
       "local_host                                      False\n",
       "entire_home_apt                                 False\n",
       "hotel_room                                      False\n",
       "private_room                                    False\n",
       "shared_room                                     False\n",
       "host_days                                        True\n",
       "dtype: bool"
      ]
     },
     "execution_count": 29,
     "metadata": {},
     "output_type": "execute_result"
    }
   ],
   "source": [
    "paris_df.isnull().any()"
   ]
  },
  {
   "cell_type": "code",
   "execution_count": 30,
   "id": "e8b923c1",
   "metadata": {},
   "outputs": [
    {
     "data": {
      "text/plain": [
       "<AxesSubplot:xlabel='host_listings_count', ylabel='Count'>"
      ]
     },
     "execution_count": 30,
     "metadata": {},
     "output_type": "execute_result"
    },
    {
     "data": {
      "image/png": "[encoded data removed]",
      "text/plain": [
       "<Figure size 432x288 with 1 Axes>"
      ]
     },
     "metadata": {
      "needs_background": "light"
     },
     "output_type": "display_data"
    }
   ],
   "source": [
    "sns.histplot(data=paris_df, x='host_listings_count', binwidth=5)"
   ]
  },
  {
   "cell_type": "code",
   "execution_count": 31,
   "id": "181383c1",
   "metadata": {},
   "outputs": [
    {
     "data": {
      "text/plain": [
       "count    49606.000000\n",
       "mean        12.992380\n",
       "std         77.278735\n",
       "min          0.000000\n",
       "25%          1.000000\n",
       "50%          1.000000\n",
       "75%          2.000000\n",
       "max       1105.000000\n",
       "Name: host_listings_count, dtype: float64"
      ]
     },
     "execution_count": 31,
     "metadata": {},
     "output_type": "execute_result"
    }
   ],
   "source": [
    "paris_df['host_listings_count'].describe()"
   ]
  },
  {
   "cell_type": "code",
   "execution_count": 32,
   "id": "cac6233d",
   "metadata": {},
   "outputs": [
    {
     "data": {
      "text/plain": [
       "<AxesSubplot:xlabel='beds', ylabel='Count'>"
      ]
     },
     "execution_count": 32,
     "metadata": {},
     "output_type": "execute_result"
    },
    {
     "data": {
      "image/png": "[encoded data removed]",
      "text/plain": [
       "<Figure size 432x288 with 1 Axes>"
      ]
     },
     "metadata": {
      "needs_background": "light"
     },
     "output_type": "display_data"
    }
   ],
   "source": [
    "sns.histplot(data=paris_df, x='beds', binwidth=1)"
   ]
  },
  {
   "cell_type": "code",
   "execution_count": 33,
   "id": "6c3b33c4",
   "metadata": {},
   "outputs": [
    {
     "data": {
      "text/plain": [
       "count    49052.000000\n",
       "mean         1.692204\n",
       "std          1.393760\n",
       "min          0.000000\n",
       "25%          1.000000\n",
       "50%          1.000000\n",
       "75%          2.000000\n",
       "max         90.000000\n",
       "Name: beds, dtype: float64"
      ]
     },
     "execution_count": 33,
     "metadata": {},
     "output_type": "execute_result"
    }
   ],
   "source": [
    "paris_df['beds'].describe()"
   ]
  },
  {
   "cell_type": "code",
   "execution_count": 34,
   "id": "51103d7c",
   "metadata": {},
   "outputs": [
    {
     "data": {
      "text/plain": [
       "<AxesSubplot:xlabel='host_days', ylabel='Count'>"
      ]
     },
     "execution_count": 34,
     "metadata": {},
     "output_type": "execute_result"
    },
    {
     "data": {
      "image/png": "[encoded data removed]",
      "text/plain": [
       "<Figure size 432x288 with 1 Axes>"
      ]
     },
     "metadata": {
      "needs_background": "light"
     },
     "output_type": "display_data"
    }
   ],
   "source": [
    "sns.histplot(data=paris_df, x='host_days')"
   ]
  },
  {
   "cell_type": "code",
   "execution_count": 35,
   "id": "3f4a141c",
   "metadata": {},
   "outputs": [
    {
     "data": {
      "text/plain": [
       "count    49606.000000\n",
       "mean      2113.624824\n",
       "std        920.826216\n",
       "min          4.000000\n",
       "25%       1526.000000\n",
       "50%       2272.000000\n",
       "75%       2757.000000\n",
       "max       4790.000000\n",
       "Name: host_days, dtype: float64"
      ]
     },
     "execution_count": 35,
     "metadata": {},
     "output_type": "execute_result"
    }
   ],
   "source": [
    "paris_df['host_days'].describe()"
   ]
  },
  {
   "cell_type": "code",
   "execution_count": 36,
   "id": "8c421e9a",
   "metadata": {},
   "outputs": [],
   "source": [
    "# 'name' and 'description' variables are text ones and missing values won't be replaced; 'host_listings_count' and 'beds'\n",
    "# have extreme outliers and gaps will be filled with median (another reason is that they're integers); 'host_days' is more\n",
    "# harmonized and missing values will be filled with mean\n",
    "paris_df['host_listings_count'].fillna(paris_df['host_listings_count'].median(), inplace = True)\n",
    "paris_df['beds'].fillna(paris_df['beds'].median(), inplace = True)\n",
    "paris_df['host_days'].fillna(paris_df['host_days'].median(), inplace = True)"
   ]
  },
  {
   "cell_type": "code",
   "execution_count": 37,
   "id": "9081d0f9",
   "metadata": {},
   "outputs": [],
   "source": [
    "# 'price' is not expressed as number, so it has to be transformed into number for further analysis \n",
    "paris_df['price'] = paris_df['price'].map(lambda x: x.lstrip('$').replace(\",\", \"\"))"
   ]
  },
  {
   "cell_type": "code",
   "execution_count": 38,
   "id": "5fb68e7d",
   "metadata": {},
   "outputs": [
    {
     "data": {
      "text/html": [
       "<div>\n",
       "<style scoped>\n",
       "    .dataframe tbody tr th:only-of-type {\n",
       "        vertical-align: middle;\n",
       "    }\n",
       "\n",
       "    .dataframe tbody tr th {\n",
       "        vertical-align: top;\n",
       "    }\n",
       "\n",
       "    .dataframe thead th {\n",
       "        text-align: right;\n",
       "    }\n",
       "</style>\n",
       "<table border=\"1\" class=\"dataframe\">\n",
       "  <thead>\n",
       "    <tr style=\"text-align: right;\">\n",
       "      <th></th>\n",
       "      <th>id</th>\n",
       "      <th>name</th>\n",
       "      <th>description</th>\n",
       "      <th>host_is_superhost</th>\n",
       "      <th>host_listings_count</th>\n",
       "      <th>host_identity_verified</th>\n",
       "      <th>latitude</th>\n",
       "      <th>longitude</th>\n",
       "      <th>accommodates</th>\n",
       "      <th>beds</th>\n",
       "      <th>amenities</th>\n",
       "      <th>price</th>\n",
       "      <th>minimum_nights</th>\n",
       "      <th>maximum_nights</th>\n",
       "      <th>number_of_reviews</th>\n",
       "      <th>number_of_reviews_ltm</th>\n",
       "      <th>number_of_reviews_l30d</th>\n",
       "      <th>instant_bookable</th>\n",
       "      <th>calculated_host_listings_count</th>\n",
       "      <th>calculated_host_listings_count_entire_homes</th>\n",
       "      <th>calculated_host_listings_count_private_rooms</th>\n",
       "      <th>calculated_host_listings_count_shared_rooms</th>\n",
       "      <th>local_host</th>\n",
       "      <th>entire_home_apt</th>\n",
       "      <th>hotel_room</th>\n",
       "      <th>private_room</th>\n",
       "      <th>shared_room</th>\n",
       "      <th>host_days</th>\n",
       "    </tr>\n",
       "  </thead>\n",
       "  <tbody>\n",
       "    <tr>\n",
       "      <th>0</th>\n",
       "      <td>5396</td>\n",
       "      <td>Explore the heart of old Paris</td>\n",
       "      <td>Cozy, well-appointed and graciously designed s...</td>\n",
       "      <td>0</td>\n",
       "      <td>1.0</td>\n",
       "      <td>1</td>\n",
       "      <td>48.85207</td>\n",
       "      <td>2.35871</td>\n",
       "      <td>2</td>\n",
       "      <td>1.0</td>\n",
       "      <td>[\"Fire extinguisher\", \"Hangers\", \"Washer\", \"St...</td>\n",
       "      <td>100.00</td>\n",
       "      <td>2</td>\n",
       "      <td>1125</td>\n",
       "      <td>263</td>\n",
       "      <td>35</td>\n",
       "      <td>2</td>\n",
       "      <td>0</td>\n",
       "      <td>1</td>\n",
       "      <td>1</td>\n",
       "      <td>0</td>\n",
       "      <td>0</td>\n",
       "      <td>0</td>\n",
       "      <td>1</td>\n",
       "      <td>0</td>\n",
       "      <td>0</td>\n",
       "      <td>0</td>\n",
       "      <td>4622.0</td>\n",
       "    </tr>\n",
       "    <tr>\n",
       "      <th>1</th>\n",
       "      <td>7397</td>\n",
       "      <td>MARAIS - 2ROOMS APT - 2/4 PEOPLE</td>\n",
       "      <td>VERY CONVENIENT, WITH THE BEST LOCATION !&lt;br /...</td>\n",
       "      <td>1</td>\n",
       "      <td>4.0</td>\n",
       "      <td>1</td>\n",
       "      <td>48.85909</td>\n",
       "      <td>2.35315</td>\n",
       "      <td>4</td>\n",
       "      <td>2.0</td>\n",
       "      <td>[\"Hangers\", \"Washer\", \"Stove\", \"Bed linens\", \"...</td>\n",
       "      <td>105.00</td>\n",
       "      <td>10</td>\n",
       "      <td>130</td>\n",
       "      <td>282</td>\n",
       "      <td>13</td>\n",
       "      <td>4</td>\n",
       "      <td>0</td>\n",
       "      <td>1</td>\n",
       "      <td>1</td>\n",
       "      <td>0</td>\n",
       "      <td>0</td>\n",
       "      <td>1</td>\n",
       "      <td>1</td>\n",
       "      <td>0</td>\n",
       "      <td>0</td>\n",
       "      <td>0</td>\n",
       "      <td>4790.0</td>\n",
       "    </tr>\n",
       "    <tr>\n",
       "      <th>2</th>\n",
       "      <td>7964</td>\n",
       "      <td>Large &amp; sunny flat with balcony !</td>\n",
       "      <td>Very large &amp; nice apartment all for you! &lt;br /...</td>\n",
       "      <td>0</td>\n",
       "      <td>0.0</td>\n",
       "      <td>1</td>\n",
       "      <td>48.87417</td>\n",
       "      <td>2.34245</td>\n",
       "      <td>2</td>\n",
       "      <td>1.0</td>\n",
       "      <td>[\"Hangers\", \"Stove\", \"Bed linens\", \"Private pa...</td>\n",
       "      <td>130.00</td>\n",
       "      <td>6</td>\n",
       "      <td>365</td>\n",
       "      <td>6</td>\n",
       "      <td>0</td>\n",
       "      <td>0</td>\n",
       "      <td>0</td>\n",
       "      <td>1</td>\n",
       "      <td>1</td>\n",
       "      <td>0</td>\n",
       "      <td>0</td>\n",
       "      <td>1</td>\n",
       "      <td>1</td>\n",
       "      <td>0</td>\n",
       "      <td>0</td>\n",
       "      <td>0</td>\n",
       "      <td>4497.0</td>\n",
       "    </tr>\n",
       "    <tr>\n",
       "      <th>3</th>\n",
       "      <td>9359</td>\n",
       "      <td>Cozy, Central Paris: WALK or VELIB EVERYWHERE !</td>\n",
       "      <td>Location! Location! Location! Just bring your ...</td>\n",
       "      <td>0</td>\n",
       "      <td>3.0</td>\n",
       "      <td>1</td>\n",
       "      <td>48.85899</td>\n",
       "      <td>2.34735</td>\n",
       "      <td>2</td>\n",
       "      <td>1.0</td>\n",
       "      <td>[\"Long term stays allowed\", \"Hair dryer\", \"Kit...</td>\n",
       "      <td>75.00</td>\n",
       "      <td>180</td>\n",
       "      <td>365</td>\n",
       "      <td>0</td>\n",
       "      <td>0</td>\n",
       "      <td>0</td>\n",
       "      <td>0</td>\n",
       "      <td>1</td>\n",
       "      <td>1</td>\n",
       "      <td>0</td>\n",
       "      <td>0</td>\n",
       "      <td>0</td>\n",
       "      <td>1</td>\n",
       "      <td>0</td>\n",
       "      <td>0</td>\n",
       "      <td>0</td>\n",
       "      <td>4457.0</td>\n",
       "    </tr>\n",
       "    <tr>\n",
       "      <th>4</th>\n",
       "      <td>9952</td>\n",
       "      <td>Paris petit coin douillet</td>\n",
       "      <td>Je suis une dame retraitée, qui propose un agr...</td>\n",
       "      <td>1</td>\n",
       "      <td>1.0</td>\n",
       "      <td>1</td>\n",
       "      <td>48.86227</td>\n",
       "      <td>2.37134</td>\n",
       "      <td>2</td>\n",
       "      <td>1.0</td>\n",
       "      <td>[\"Hangers\", \"Stove\", \"Bed linens\", \"Oven\", \"Di...</td>\n",
       "      <td>80.00</td>\n",
       "      <td>4</td>\n",
       "      <td>31</td>\n",
       "      <td>32</td>\n",
       "      <td>7</td>\n",
       "      <td>1</td>\n",
       "      <td>0</td>\n",
       "      <td>1</td>\n",
       "      <td>1</td>\n",
       "      <td>0</td>\n",
       "      <td>0</td>\n",
       "      <td>1</td>\n",
       "      <td>1</td>\n",
       "      <td>0</td>\n",
       "      <td>0</td>\n",
       "      <td>0</td>\n",
       "      <td>4431.0</td>\n",
       "    </tr>\n",
       "  </tbody>\n",
       "</table>\n",
       "</div>"
      ],
      "text/plain": [
       "     id                                             name  \\\n",
       "0  5396                   Explore the heart of old Paris   \n",
       "1  7397                 MARAIS - 2ROOMS APT - 2/4 PEOPLE   \n",
       "2  7964                Large & sunny flat with balcony !   \n",
       "3  9359  Cozy, Central Paris: WALK or VELIB EVERYWHERE !   \n",
       "4  9952                        Paris petit coin douillet   \n",
       "\n",
       "                                         description  host_is_superhost  \\\n",
       "0  Cozy, well-appointed and graciously designed s...                  0   \n",
       "1  VERY CONVENIENT, WITH THE BEST LOCATION !<br /...                  1   \n",
       "2  Very large & nice apartment all for you! <br /...                  0   \n",
       "3  Location! Location! Location! Just bring your ...                  0   \n",
       "4  Je suis une dame retraitée, qui propose un agr...                  1   \n",
       "\n",
       "   host_listings_count  host_identity_verified  latitude  longitude  \\\n",
       "0                  1.0                       1  48.85207    2.35871   \n",
       "1                  4.0                       1  48.85909    2.35315   \n",
       "2                  0.0                       1  48.87417    2.34245   \n",
       "3                  3.0                       1  48.85899    2.34735   \n",
       "4                  1.0                       1  48.86227    2.37134   \n",
       "\n",
       "   accommodates  beds                                          amenities  \\\n",
       "0             2   1.0  [\"Fire extinguisher\", \"Hangers\", \"Washer\", \"St...   \n",
       "1             4   2.0  [\"Hangers\", \"Washer\", \"Stove\", \"Bed linens\", \"...   \n",
       "2             2   1.0  [\"Hangers\", \"Stove\", \"Bed linens\", \"Private pa...   \n",
       "3             2   1.0  [\"Long term stays allowed\", \"Hair dryer\", \"Kit...   \n",
       "4             2   1.0  [\"Hangers\", \"Stove\", \"Bed linens\", \"Oven\", \"Di...   \n",
       "\n",
       "    price  minimum_nights  maximum_nights  number_of_reviews  \\\n",
       "0  100.00               2            1125                263   \n",
       "1  105.00              10             130                282   \n",
       "2  130.00               6             365                  6   \n",
       "3   75.00             180             365                  0   \n",
       "4   80.00               4              31                 32   \n",
       "\n",
       "   number_of_reviews_ltm  number_of_reviews_l30d  instant_bookable  \\\n",
       "0                     35                       2                 0   \n",
       "1                     13                       4                 0   \n",
       "2                      0                       0                 0   \n",
       "3                      0                       0                 0   \n",
       "4                      7                       1                 0   \n",
       "\n",
       "   calculated_host_listings_count  \\\n",
       "0                               1   \n",
       "1                               1   \n",
       "2                               1   \n",
       "3                               1   \n",
       "4                               1   \n",
       "\n",
       "   calculated_host_listings_count_entire_homes  \\\n",
       "0                                            1   \n",
       "1                                            1   \n",
       "2                                            1   \n",
       "3                                            1   \n",
       "4                                            1   \n",
       "\n",
       "   calculated_host_listings_count_private_rooms  \\\n",
       "0                                             0   \n",
       "1                                             0   \n",
       "2                                             0   \n",
       "3                                             0   \n",
       "4                                             0   \n",
       "\n",
       "   calculated_host_listings_count_shared_rooms  local_host  entire_home_apt  \\\n",
       "0                                            0           0                1   \n",
       "1                                            0           1                1   \n",
       "2                                            0           1                1   \n",
       "3                                            0           0                1   \n",
       "4                                            0           1                1   \n",
       "\n",
       "   hotel_room  private_room  shared_room  host_days  \n",
       "0           0             0            0     4622.0  \n",
       "1           0             0            0     4790.0  \n",
       "2           0             0            0     4497.0  \n",
       "3           0             0            0     4457.0  \n",
       "4           0             0            0     4431.0  "
      ]
     },
     "execution_count": 38,
     "metadata": {},
     "output_type": "execute_result"
    }
   ],
   "source": [
    "# another glance at data after transformations applied\n",
    "pd.set_option('max_columns', None)\n",
    "paris_df.head()"
   ]
  },
  {
   "cell_type": "code",
   "execution_count": 39,
   "id": "e277bfed",
   "metadata": {},
   "outputs": [],
   "source": [
    "# some variables are still expressed as floats, while integer would be enough; ensuring that all of the numerical variables\n",
    "# have proper format\n",
    "cols_no_price = [\n",
    "    'host_is_superhost', 'host_listings_count', 'host_identity_verified', 'accommodates', 'beds', 'minimum_nights',\n",
    "    'maximum_nights', 'number_of_reviews', 'number_of_reviews_ltm', 'number_of_reviews_l30d', 'instant_bookable', \n",
    "    'calculated_host_listings_count', 'calculated_host_listings_count_entire_homes', \n",
    "    'calculated_host_listings_count_private_rooms', 'calculated_host_listings_count_shared_rooms', 'local_host',\n",
    "    'entire_home_apt', 'hotel_room', 'private_room', 'shared_room', 'host_days'\n",
    "]\n",
    "\n",
    "paris_df[cols_no_price] = paris_df[cols_no_price].astype(int)\n",
    "paris_df['price'] = paris_df['price'].astype(float)"
   ]
  },
  {
   "cell_type": "code",
   "execution_count": 40,
   "id": "a2f29801",
   "metadata": {},
   "outputs": [
    {
     "data": {
      "text/html": [
       "<div>\n",
       "<style scoped>\n",
       "    .dataframe tbody tr th:only-of-type {\n",
       "        vertical-align: middle;\n",
       "    }\n",
       "\n",
       "    .dataframe tbody tr th {\n",
       "        vertical-align: top;\n",
       "    }\n",
       "\n",
       "    .dataframe thead th {\n",
       "        text-align: right;\n",
       "    }\n",
       "</style>\n",
       "<table border=\"1\" class=\"dataframe\">\n",
       "  <thead>\n",
       "    <tr style=\"text-align: right;\">\n",
       "      <th></th>\n",
       "      <th>id</th>\n",
       "      <th>name</th>\n",
       "      <th>description</th>\n",
       "      <th>host_is_superhost</th>\n",
       "      <th>host_listings_count</th>\n",
       "      <th>host_identity_verified</th>\n",
       "      <th>latitude</th>\n",
       "      <th>longitude</th>\n",
       "      <th>accommodates</th>\n",
       "      <th>beds</th>\n",
       "      <th>amenities</th>\n",
       "      <th>price</th>\n",
       "      <th>minimum_nights</th>\n",
       "      <th>maximum_nights</th>\n",
       "      <th>number_of_reviews</th>\n",
       "      <th>number_of_reviews_ltm</th>\n",
       "      <th>number_of_reviews_l30d</th>\n",
       "      <th>instant_bookable</th>\n",
       "      <th>calculated_host_listings_count</th>\n",
       "      <th>calculated_host_listings_count_entire_homes</th>\n",
       "      <th>calculated_host_listings_count_private_rooms</th>\n",
       "      <th>calculated_host_listings_count_shared_rooms</th>\n",
       "      <th>local_host</th>\n",
       "      <th>entire_home_apt</th>\n",
       "      <th>hotel_room</th>\n",
       "      <th>private_room</th>\n",
       "      <th>shared_room</th>\n",
       "      <th>host_days</th>\n",
       "    </tr>\n",
       "  </thead>\n",
       "  <tbody>\n",
       "    <tr>\n",
       "      <th>0</th>\n",
       "      <td>5396</td>\n",
       "      <td>Explore the heart of old Paris</td>\n",
       "      <td>Cozy, well-appointed and graciously designed s...</td>\n",
       "      <td>0</td>\n",
       "      <td>1</td>\n",
       "      <td>1</td>\n",
       "      <td>48.85207</td>\n",
       "      <td>2.35871</td>\n",
       "      <td>2</td>\n",
       "      <td>1</td>\n",
       "      <td>[\"Fire extinguisher\", \"Hangers\", \"Washer\", \"St...</td>\n",
       "      <td>100.0</td>\n",
       "      <td>2</td>\n",
       "      <td>1125</td>\n",
       "      <td>263</td>\n",
       "      <td>35</td>\n",
       "      <td>2</td>\n",
       "      <td>0</td>\n",
       "      <td>1</td>\n",
       "      <td>1</td>\n",
       "      <td>0</td>\n",
       "      <td>0</td>\n",
       "      <td>0</td>\n",
       "      <td>1</td>\n",
       "      <td>0</td>\n",
       "      <td>0</td>\n",
       "      <td>0</td>\n",
       "      <td>4622</td>\n",
       "    </tr>\n",
       "    <tr>\n",
       "      <th>1</th>\n",
       "      <td>7397</td>\n",
       "      <td>MARAIS - 2ROOMS APT - 2/4 PEOPLE</td>\n",
       "      <td>VERY CONVENIENT, WITH THE BEST LOCATION !&lt;br /...</td>\n",
       "      <td>1</td>\n",
       "      <td>4</td>\n",
       "      <td>1</td>\n",
       "      <td>48.85909</td>\n",
       "      <td>2.35315</td>\n",
       "      <td>4</td>\n",
       "      <td>2</td>\n",
       "      <td>[\"Hangers\", \"Washer\", \"Stove\", \"Bed linens\", \"...</td>\n",
       "      <td>105.0</td>\n",
       "      <td>10</td>\n",
       "      <td>130</td>\n",
       "      <td>282</td>\n",
       "      <td>13</td>\n",
       "      <td>4</td>\n",
       "      <td>0</td>\n",
       "      <td>1</td>\n",
       "      <td>1</td>\n",
       "      <td>0</td>\n",
       "      <td>0</td>\n",
       "      <td>1</td>\n",
       "      <td>1</td>\n",
       "      <td>0</td>\n",
       "      <td>0</td>\n",
       "      <td>0</td>\n",
       "      <td>4790</td>\n",
       "    </tr>\n",
       "    <tr>\n",
       "      <th>2</th>\n",
       "      <td>7964</td>\n",
       "      <td>Large &amp; sunny flat with balcony !</td>\n",
       "      <td>Very large &amp; nice apartment all for you! &lt;br /...</td>\n",
       "      <td>0</td>\n",
       "      <td>0</td>\n",
       "      <td>1</td>\n",
       "      <td>48.87417</td>\n",
       "      <td>2.34245</td>\n",
       "      <td>2</td>\n",
       "      <td>1</td>\n",
       "      <td>[\"Hangers\", \"Stove\", \"Bed linens\", \"Private pa...</td>\n",
       "      <td>130.0</td>\n",
       "      <td>6</td>\n",
       "      <td>365</td>\n",
       "      <td>6</td>\n",
       "      <td>0</td>\n",
       "      <td>0</td>\n",
       "      <td>0</td>\n",
       "      <td>1</td>\n",
       "      <td>1</td>\n",
       "      <td>0</td>\n",
       "      <td>0</td>\n",
       "      <td>1</td>\n",
       "      <td>1</td>\n",
       "      <td>0</td>\n",
       "      <td>0</td>\n",
       "      <td>0</td>\n",
       "      <td>4497</td>\n",
       "    </tr>\n",
       "    <tr>\n",
       "      <th>3</th>\n",
       "      <td>9359</td>\n",
       "      <td>Cozy, Central Paris: WALK or VELIB EVERYWHERE !</td>\n",
       "      <td>Location! Location! Location! Just bring your ...</td>\n",
       "      <td>0</td>\n",
       "      <td>3</td>\n",
       "      <td>1</td>\n",
       "      <td>48.85899</td>\n",
       "      <td>2.34735</td>\n",
       "      <td>2</td>\n",
       "      <td>1</td>\n",
       "      <td>[\"Long term stays allowed\", \"Hair dryer\", \"Kit...</td>\n",
       "      <td>75.0</td>\n",
       "      <td>180</td>\n",
       "      <td>365</td>\n",
       "      <td>0</td>\n",
       "      <td>0</td>\n",
       "      <td>0</td>\n",
       "      <td>0</td>\n",
       "      <td>1</td>\n",
       "      <td>1</td>\n",
       "      <td>0</td>\n",
       "      <td>0</td>\n",
       "      <td>0</td>\n",
       "      <td>1</td>\n",
       "      <td>0</td>\n",
       "      <td>0</td>\n",
       "      <td>0</td>\n",
       "      <td>4457</td>\n",
       "    </tr>\n",
       "    <tr>\n",
       "      <th>4</th>\n",
       "      <td>9952</td>\n",
       "      <td>Paris petit coin douillet</td>\n",
       "      <td>Je suis une dame retraitée, qui propose un agr...</td>\n",
       "      <td>1</td>\n",
       "      <td>1</td>\n",
       "      <td>1</td>\n",
       "      <td>48.86227</td>\n",
       "      <td>2.37134</td>\n",
       "      <td>2</td>\n",
       "      <td>1</td>\n",
       "      <td>[\"Hangers\", \"Stove\", \"Bed linens\", \"Oven\", \"Di...</td>\n",
       "      <td>80.0</td>\n",
       "      <td>4</td>\n",
       "      <td>31</td>\n",
       "      <td>32</td>\n",
       "      <td>7</td>\n",
       "      <td>1</td>\n",
       "      <td>0</td>\n",
       "      <td>1</td>\n",
       "      <td>1</td>\n",
       "      <td>0</td>\n",
       "      <td>0</td>\n",
       "      <td>1</td>\n",
       "      <td>1</td>\n",
       "      <td>0</td>\n",
       "      <td>0</td>\n",
       "      <td>0</td>\n",
       "      <td>4431</td>\n",
       "    </tr>\n",
       "  </tbody>\n",
       "</table>\n",
       "</div>"
      ],
      "text/plain": [
       "     id                                             name  \\\n",
       "0  5396                   Explore the heart of old Paris   \n",
       "1  7397                 MARAIS - 2ROOMS APT - 2/4 PEOPLE   \n",
       "2  7964                Large & sunny flat with balcony !   \n",
       "3  9359  Cozy, Central Paris: WALK or VELIB EVERYWHERE !   \n",
       "4  9952                        Paris petit coin douillet   \n",
       "\n",
       "                                         description  host_is_superhost  \\\n",
       "0  Cozy, well-appointed and graciously designed s...                  0   \n",
       "1  VERY CONVENIENT, WITH THE BEST LOCATION !<br /...                  1   \n",
       "2  Very large & nice apartment all for you! <br /...                  0   \n",
       "3  Location! Location! Location! Just bring your ...                  0   \n",
       "4  Je suis une dame retraitée, qui propose un agr...                  1   \n",
       "\n",
       "   host_listings_count  host_identity_verified  latitude  longitude  \\\n",
       "0                    1                       1  48.85207    2.35871   \n",
       "1                    4                       1  48.85909    2.35315   \n",
       "2                    0                       1  48.87417    2.34245   \n",
       "3                    3                       1  48.85899    2.34735   \n",
       "4                    1                       1  48.86227    2.37134   \n",
       "\n",
       "   accommodates  beds                                          amenities  \\\n",
       "0             2     1  [\"Fire extinguisher\", \"Hangers\", \"Washer\", \"St...   \n",
       "1             4     2  [\"Hangers\", \"Washer\", \"Stove\", \"Bed linens\", \"...   \n",
       "2             2     1  [\"Hangers\", \"Stove\", \"Bed linens\", \"Private pa...   \n",
       "3             2     1  [\"Long term stays allowed\", \"Hair dryer\", \"Kit...   \n",
       "4             2     1  [\"Hangers\", \"Stove\", \"Bed linens\", \"Oven\", \"Di...   \n",
       "\n",
       "   price  minimum_nights  maximum_nights  number_of_reviews  \\\n",
       "0  100.0               2            1125                263   \n",
       "1  105.0              10             130                282   \n",
       "2  130.0               6             365                  6   \n",
       "3   75.0             180             365                  0   \n",
       "4   80.0               4              31                 32   \n",
       "\n",
       "   number_of_reviews_ltm  number_of_reviews_l30d  instant_bookable  \\\n",
       "0                     35                       2                 0   \n",
       "1                     13                       4                 0   \n",
       "2                      0                       0                 0   \n",
       "3                      0                       0                 0   \n",
       "4                      7                       1                 0   \n",
       "\n",
       "   calculated_host_listings_count  \\\n",
       "0                               1   \n",
       "1                               1   \n",
       "2                               1   \n",
       "3                               1   \n",
       "4                               1   \n",
       "\n",
       "   calculated_host_listings_count_entire_homes  \\\n",
       "0                                            1   \n",
       "1                                            1   \n",
       "2                                            1   \n",
       "3                                            1   \n",
       "4                                            1   \n",
       "\n",
       "   calculated_host_listings_count_private_rooms  \\\n",
       "0                                             0   \n",
       "1                                             0   \n",
       "2                                             0   \n",
       "3                                             0   \n",
       "4                                             0   \n",
       "\n",
       "   calculated_host_listings_count_shared_rooms  local_host  entire_home_apt  \\\n",
       "0                                            0           0                1   \n",
       "1                                            0           1                1   \n",
       "2                                            0           1                1   \n",
       "3                                            0           0                1   \n",
       "4                                            0           1                1   \n",
       "\n",
       "   hotel_room  private_room  shared_room  host_days  \n",
       "0           0             0            0       4622  \n",
       "1           0             0            0       4790  \n",
       "2           0             0            0       4497  \n",
       "3           0             0            0       4457  \n",
       "4           0             0            0       4431  "
      ]
     },
     "execution_count": 40,
     "metadata": {},
     "output_type": "execute_result"
    }
   ],
   "source": [
    "# final look at the dataset prepared for further analyses\n",
    "pd.set_option('max_columns', None)\n",
    "paris_df.head()"
   ]
  },
  {
   "cell_type": "markdown",
   "id": "6bfc5906",
   "metadata": {},
   "source": [
    "Looking for and pruning variables with outliers before further analysis"
   ]
  },
  {
   "cell_type": "code",
   "execution_count": 41,
   "id": "c83d1772",
   "metadata": {},
   "outputs": [
    {
     "data": {
      "text/plain": [
       "<AxesSubplot:xlabel='host_listings_count', ylabel='host_listings_count'>"
      ]
     },
     "execution_count": 41,
     "metadata": {},
     "output_type": "execute_result"
    },
    {
     "data": {
      "image/png": "[encoded data removed]",
      "text/plain": [
       "<Figure size 432x288 with 1 Axes>"
      ]
     },
     "metadata": {
      "needs_background": "light"
     },
     "output_type": "display_data"
    }
   ],
   "source": [
    "sns.scatterplot(data=paris_df, x=\"host_listings_count\", y=\"host_listings_count\")"
   ]
  },
  {
   "cell_type": "code",
   "execution_count": 42,
   "id": "3cc7d425",
   "metadata": {},
   "outputs": [],
   "source": [
    "# iterating through different values of variable and checking the effect on histogram above until obtaining more \n",
    "# harmonized profile\n",
    "pruned_paris_df = paris_df[(paris_df['host_listings_count'] <= 5) & (paris_df['host_listings_count'] > 0)]"
   ]
  },
  {
   "cell_type": "code",
   "execution_count": 43,
   "id": "e8f8d75a",
   "metadata": {},
   "outputs": [
    {
     "data": {
      "text/plain": [
       "<AxesSubplot:xlabel='host_listings_count', ylabel='Count'>"
      ]
     },
     "execution_count": 43,
     "metadata": {},
     "output_type": "execute_result"
    },
    {
     "data": {
      "image/png": "[encoded data removed]",
      "text/plain": [
       "<Figure size 432x288 with 1 Axes>"
      ]
     },
     "metadata": {
      "needs_background": "light"
     },
     "output_type": "display_data"
    }
   ],
   "source": [
    "sns.histplot(data=pruned_paris_df, x='host_listings_count')"
   ]
  },
  {
   "cell_type": "code",
   "execution_count": 44,
   "id": "98be858f",
   "metadata": {},
   "outputs": [
    {
     "data": {
      "text/plain": [
       "<AxesSubplot:xlabel='accommodates', ylabel='accommodates'>"
      ]
     },
     "execution_count": 44,
     "metadata": {},
     "output_type": "execute_result"
    },
    {
     "data": {
      "image/png": "[encoded data removed]",
      "text/plain": [
       "<Figure size 432x288 with 1 Axes>"
      ]
     },
     "metadata": {
      "needs_background": "light"
     },
     "output_type": "display_data"
    }
   ],
   "source": [
    "sns.scatterplot(data=pruned_paris_df, x=\"accommodates\", y=\"accommodates\")"
   ]
  },
  {
   "cell_type": "code",
   "execution_count": 45,
   "id": "4f0cff98",
   "metadata": {},
   "outputs": [
    {
     "data": {
      "text/plain": [
       "<AxesSubplot:xlabel='accommodates', ylabel='Count'>"
      ]
     },
     "execution_count": 45,
     "metadata": {},
     "output_type": "execute_result"
    },
    {
     "data": {
      "image/png": "[encoded data removed]",
      "text/plain": [
       "<Figure size 432x288 with 1 Axes>"
      ]
     },
     "metadata": {
      "needs_background": "light"
     },
     "output_type": "display_data"
    }
   ],
   "source": [
    "sns.histplot(data=pruned_paris_df, x='accommodates')"
   ]
  },
  {
   "cell_type": "code",
   "execution_count": 46,
   "id": "bbc4da3f",
   "metadata": {},
   "outputs": [],
   "source": [
    "pruned_paris_df = pruned_paris_df[(pruned_paris_df['accommodates'] <= 6) & (pruned_paris_df['accommodates'] > 0)]"
   ]
  },
  {
   "cell_type": "code",
   "execution_count": 47,
   "id": "7ded3d7c",
   "metadata": {},
   "outputs": [
    {
     "data": {
      "text/plain": [
       "<AxesSubplot:xlabel='beds', ylabel='beds'>"
      ]
     },
     "execution_count": 47,
     "metadata": {},
     "output_type": "execute_result"
    },
    {
     "data": {
      "image/png": "[encoded data removed]",
      "text/plain": [
       "<Figure size 432x288 with 1 Axes>"
      ]
     },
     "metadata": {
      "needs_background": "light"
     },
     "output_type": "display_data"
    }
   ],
   "source": [
    "sns.scatterplot(data=pruned_paris_df, x=\"beds\", y=\"beds\")"
   ]
  },
  {
   "cell_type": "code",
   "execution_count": 48,
   "id": "2ab59ca1",
   "metadata": {},
   "outputs": [
    {
     "data": {
      "text/plain": [
       "<AxesSubplot:xlabel='beds', ylabel='Count'>"
      ]
     },
     "execution_count": 48,
     "metadata": {},
     "output_type": "execute_result"
    },
    {
     "data": {
      "image/png": "[encoded data removed]",
      "text/plain": [
       "<Figure size 432x288 with 1 Axes>"
      ]
     },
     "metadata": {
      "needs_background": "light"
     },
     "output_type": "display_data"
    }
   ],
   "source": [
    "sns.histplot(data=pruned_paris_df, x='beds')"
   ]
  },
  {
   "cell_type": "code",
   "execution_count": 49,
   "id": "2c33ccba",
   "metadata": {},
   "outputs": [],
   "source": [
    "pruned_paris_df = pruned_paris_df[(pruned_paris_df['beds'] <= 4) & (pruned_paris_df['beds'] >= 0)]"
   ]
  },
  {
   "cell_type": "code",
   "execution_count": 50,
   "id": "bf25b996",
   "metadata": {},
   "outputs": [
    {
     "data": {
      "text/plain": [
       "<AxesSubplot:xlabel='price', ylabel='price'>"
      ]
     },
     "execution_count": 50,
     "metadata": {},
     "output_type": "execute_result"
    },
    {
     "data": {
      "image/png": "[encoded data removed]",
      "text/plain": [
       "<Figure size 432x288 with 1 Axes>"
      ]
     },
     "metadata": {
      "needs_background": "light"
     },
     "output_type": "display_data"
    }
   ],
   "source": [
    "sns.scatterplot(data=pruned_paris_df, x=\"price\", y=\"price\")"
   ]
  },
  {
   "cell_type": "code",
   "execution_count": 51,
   "id": "983c48af",
   "metadata": {},
   "outputs": [
    {
     "data": {
      "text/plain": [
       "<AxesSubplot:xlabel='price', ylabel='Count'>"
      ]
     },
     "execution_count": 51,
     "metadata": {},
     "output_type": "execute_result"
    },
    {
     "data": {
      "image/png": "[encoded data removed]",
      "text/plain": [
       "<Figure size 432x288 with 1 Axes>"
      ]
     },
     "metadata": {
      "needs_background": "light"
     },
     "output_type": "display_data"
    }
   ],
   "source": [
    "sns.histplot(data=pruned_paris_df, x='price')"
   ]
  },
  {
   "cell_type": "code",
   "execution_count": 52,
   "id": "a07ce690",
   "metadata": {},
   "outputs": [],
   "source": [
    "pruned_paris_df = pruned_paris_df[(pruned_paris_df['price'] <= 300) & (pruned_paris_df['price'] > 0)]"
   ]
  },
  {
   "cell_type": "code",
   "execution_count": 53,
   "id": "5a4670fe",
   "metadata": {},
   "outputs": [
    {
     "data": {
      "text/plain": [
       "<AxesSubplot:xlabel='minimum_nights', ylabel='minimum_nights'>"
      ]
     },
     "execution_count": 53,
     "metadata": {},
     "output_type": "execute_result"
    },
    {
     "data": {
      "image/png": "[encoded data removed]",
      "text/plain": [
       "<Figure size 432x288 with 1 Axes>"
      ]
     },
     "metadata": {
      "needs_background": "light"
     },
     "output_type": "display_data"
    }
   ],
   "source": [
    "sns.scatterplot(data=pruned_paris_df, x=\"minimum_nights\", y=\"minimum_nights\")"
   ]
  },
  {
   "cell_type": "code",
   "execution_count": 54,
   "id": "0201cfb3",
   "metadata": {},
   "outputs": [
    {
     "data": {
      "text/plain": [
       "<AxesSubplot:xlabel='minimum_nights', ylabel='Count'>"
      ]
     },
     "execution_count": 54,
     "metadata": {},
     "output_type": "execute_result"
    },
    {
     "data": {
      "image/png": "[encoded data removed]",
      "text/plain": [
       "<Figure size 432x288 with 1 Axes>"
      ]
     },
     "metadata": {
      "needs_background": "light"
     },
     "output_type": "display_data"
    }
   ],
   "source": [
    "sns.histplot(data=pruned_paris_df, x='minimum_nights')"
   ]
  },
  {
   "cell_type": "code",
   "execution_count": 55,
   "id": "836831bd",
   "metadata": {},
   "outputs": [],
   "source": [
    "pruned_paris_df = pruned_paris_df[(pruned_paris_df['minimum_nights'] <= 366) & (pruned_paris_df['minimum_nights'] > 0)]"
   ]
  },
  {
   "cell_type": "code",
   "execution_count": 56,
   "id": "2247310a",
   "metadata": {},
   "outputs": [
    {
     "data": {
      "text/plain": [
       "<AxesSubplot:xlabel='maximum_nights', ylabel='maximum_nights'>"
      ]
     },
     "execution_count": 56,
     "metadata": {},
     "output_type": "execute_result"
    },
    {
     "data": {
      "image/png": "[encoded data removed]",
      "text/plain": [
       "<Figure size 432x288 with 1 Axes>"
      ]
     },
     "metadata": {
      "needs_background": "light"
     },
     "output_type": "display_data"
    }
   ],
   "source": [
    "sns.scatterplot(data=pruned_paris_df, x=\"maximum_nights\", y=\"maximum_nights\")"
   ]
  },
  {
   "cell_type": "code",
   "execution_count": 57,
   "id": "65d5e1c9",
   "metadata": {},
   "outputs": [
    {
     "data": {
      "text/plain": [
       "count    4.963400e+04\n",
       "mean     1.000286e+03\n",
       "std      4.488877e+04\n",
       "min      1.000000e+00\n",
       "25%      2.000000e+02\n",
       "50%      1.125000e+03\n",
       "75%      1.125000e+03\n",
       "max      1.000000e+07\n",
       "Name: maximum_nights, dtype: float64"
      ]
     },
     "execution_count": 57,
     "metadata": {},
     "output_type": "execute_result"
    }
   ],
   "source": [
    "paris_df['maximum_nights'].describe()"
   ]
  },
  {
   "cell_type": "code",
   "execution_count": 58,
   "id": "b8e448aa",
   "metadata": {},
   "outputs": [],
   "source": [
    "pruned_paris_df = pruned_paris_df[(pruned_paris_df['maximum_nights'] <= 1125) & (pruned_paris_df['maximum_nights'] > 0)]"
   ]
  },
  {
   "cell_type": "code",
   "execution_count": 59,
   "id": "c31e1885",
   "metadata": {},
   "outputs": [
    {
     "data": {
      "text/plain": [
       "<AxesSubplot:xlabel='maximum_nights', ylabel='Count'>"
      ]
     },
     "execution_count": 59,
     "metadata": {},
     "output_type": "execute_result"
    },
    {
     "data": {
      "image/png": "[encoded data removed]",
      "text/plain": [
       "<Figure size 432x288 with 1 Axes>"
      ]
     },
     "metadata": {
      "needs_background": "light"
     },
     "output_type": "display_data"
    }
   ],
   "source": [
    "sns.histplot(data=pruned_paris_df, x='maximum_nights')"
   ]
  },
  {
   "cell_type": "code",
   "execution_count": 60,
   "id": "64e2107c",
   "metadata": {},
   "outputs": [
    {
     "data": {
      "text/plain": [
       "<AxesSubplot:xlabel='number_of_reviews', ylabel='number_of_reviews'>"
      ]
     },
     "execution_count": 60,
     "metadata": {},
     "output_type": "execute_result"
    },
    {
     "data": {
      "image/png": "[encoded data removed]",
      "text/plain": [
       "<Figure size 432x288 with 1 Axes>"
      ]
     },
     "metadata": {
      "needs_background": "light"
     },
     "output_type": "display_data"
    }
   ],
   "source": [
    "sns.scatterplot(data=pruned_paris_df, x=\"number_of_reviews\", y=\"number_of_reviews\")"
   ]
  },
  {
   "cell_type": "code",
   "execution_count": 61,
   "id": "fbbef94c",
   "metadata": {},
   "outputs": [
    {
     "data": {
      "text/plain": [
       "<AxesSubplot:xlabel='number_of_reviews', ylabel='Count'>"
      ]
     },
     "execution_count": 61,
     "metadata": {},
     "output_type": "execute_result"
    },
    {
     "data": {
      "image/png": "[encoded data removed]",
      "text/plain": [
       "<Figure size 432x288 with 1 Axes>"
      ]
     },
     "metadata": {
      "needs_background": "light"
     },
     "output_type": "display_data"
    }
   ],
   "source": [
    "sns.histplot(data=pruned_paris_df, x='number_of_reviews', binwidth=5)"
   ]
  },
  {
   "cell_type": "code",
   "execution_count": 62,
   "id": "8ae6854b",
   "metadata": {},
   "outputs": [],
   "source": [
    "pruned_paris_df = pruned_paris_df[(pruned_paris_df['number_of_reviews'] <= 200) & (pruned_paris_df['number_of_reviews'] > 0)]"
   ]
  },
  {
   "cell_type": "code",
   "execution_count": 63,
   "id": "6d69a479",
   "metadata": {},
   "outputs": [
    {
     "data": {
      "text/plain": [
       "<AxesSubplot:xlabel='number_of_reviews_ltm', ylabel='number_of_reviews_ltm'>"
      ]
     },
     "execution_count": 63,
     "metadata": {},
     "output_type": "execute_result"
    },
    {
     "data": {
      "image/png": "[encoded data removed]",
      "text/plain": [
       "<Figure size 432x288 with 1 Axes>"
      ]
     },
     "metadata": {
      "needs_background": "light"
     },
     "output_type": "display_data"
    }
   ],
   "source": [
    "sns.scatterplot(data=pruned_paris_df, x=\"number_of_reviews_ltm\", y=\"number_of_reviews_ltm\")"
   ]
  },
  {
   "cell_type": "code",
   "execution_count": 64,
   "id": "0fbe45a9",
   "metadata": {},
   "outputs": [
    {
     "data": {
      "text/plain": [
       "<AxesSubplot:xlabel='number_of_reviews_ltm', ylabel='Count'>"
      ]
     },
     "execution_count": 64,
     "metadata": {},
     "output_type": "execute_result"
    },
    {
     "data": {
      "image/png": "[encoded data removed]",
      "text/plain": [
       "<Figure size 432x288 with 1 Axes>"
      ]
     },
     "metadata": {
      "needs_background": "light"
     },
     "output_type": "display_data"
    }
   ],
   "source": [
    "sns.histplot(data=pruned_paris_df, x='number_of_reviews_ltm', binwidth=5)"
   ]
  },
  {
   "cell_type": "code",
   "execution_count": 65,
   "id": "e3a284f6",
   "metadata": {},
   "outputs": [],
   "source": [
    "pruned_paris_df = pruned_paris_df[(pruned_paris_df['number_of_reviews_ltm'] <= 90) & (pruned_paris_df['number_of_reviews_ltm'] > 0)]"
   ]
  },
  {
   "cell_type": "code",
   "execution_count": 66,
   "id": "2e1503b4",
   "metadata": {},
   "outputs": [
    {
     "data": {
      "text/plain": [
       "<AxesSubplot:xlabel='number_of_reviews_l30d', ylabel='number_of_reviews_l30d'>"
      ]
     },
     "execution_count": 66,
     "metadata": {},
     "output_type": "execute_result"
    },
    {
     "data": {
      "image/png": "[encoded data removed]",
      "text/plain": [
       "<Figure size 432x288 with 1 Axes>"
      ]
     },
     "metadata": {
      "needs_background": "light"
     },
     "output_type": "display_data"
    }
   ],
   "source": [
    "sns.scatterplot(data=pruned_paris_df, x=\"number_of_reviews_l30d\", y=\"number_of_reviews_l30d\")"
   ]
  },
  {
   "cell_type": "code",
   "execution_count": 67,
   "id": "672b71b0",
   "metadata": {},
   "outputs": [
    {
     "data": {
      "text/plain": [
       "<AxesSubplot:xlabel='number_of_reviews_l30d', ylabel='Count'>"
      ]
     },
     "execution_count": 67,
     "metadata": {},
     "output_type": "execute_result"
    },
    {
     "data": {
      "image/png": "[encoded data removed]",
      "text/plain": [
       "<Figure size 432x288 with 1 Axes>"
      ]
     },
     "metadata": {
      "needs_background": "light"
     },
     "output_type": "display_data"
    }
   ],
   "source": [
    "sns.histplot(data=pruned_paris_df, x='number_of_reviews_l30d', binwidth=2)"
   ]
  },
  {
   "cell_type": "markdown",
   "id": "79609d1e",
   "metadata": {},
   "source": [
    "keeping 'number_of_reviews_l30d' untouched intentionally, as scatterplot doesn't show that extremely far outliers as for other variables"
   ]
  },
  {
   "cell_type": "code",
   "execution_count": 68,
   "id": "ce80f4a6",
   "metadata": {},
   "outputs": [
    {
     "data": {
      "text/plain": [
       "<AxesSubplot:xlabel='host_days', ylabel='host_days'>"
      ]
     },
     "execution_count": 68,
     "metadata": {},
     "output_type": "execute_result"
    },
    {
     "data": {
      "image/png": "[encoded data removed]",
      "text/plain": [
       "<Figure size 432x288 with 1 Axes>"
      ]
     },
     "metadata": {
      "needs_background": "light"
     },
     "output_type": "display_data"
    }
   ],
   "source": [
    "sns.scatterplot(data=pruned_paris_df, x=\"host_days\", y=\"host_days\")"
   ]
  },
  {
   "cell_type": "code",
   "execution_count": 69,
   "id": "b7b41f0f",
   "metadata": {},
   "outputs": [
    {
     "data": {
      "text/plain": [
       "<AxesSubplot:xlabel='host_days', ylabel='Count'>"
      ]
     },
     "execution_count": 69,
     "metadata": {},
     "output_type": "execute_result"
    },
    {
     "data": {
      "image/png": "[encoded data removed]",
      "text/plain": [
       "<Figure size 432x288 with 1 Axes>"
      ]
     },
     "metadata": {
      "needs_background": "light"
     },
     "output_type": "display_data"
    }
   ],
   "source": [
    "sns.histplot(data=pruned_paris_df, x='host_days', binwidth=2)"
   ]
  },
  {
   "cell_type": "code",
   "execution_count": 70,
   "id": "82c15ee3",
   "metadata": {},
   "outputs": [],
   "source": [
    "# some of the columns were calculated for entire dataset and their values will be untrue for the pruned dataset, so they'll\n",
    "# be removed\n",
    "# removing location columns, as they're not transformed into district names\n",
    "# removing id, as it's kept in orginal dataframe\n",
    "columns_to_drop = [\n",
    "    'calculated_host_listings_count', 'calculated_host_listings_count_entire_homes', \n",
    "    'calculated_host_listings_count_private_rooms', 'calculated_host_listings_count_shared_rooms', 'latitude', 'longitude',\n",
    "    'id'\n",
    "]"
   ]
  },
  {
   "cell_type": "code",
   "execution_count": 71,
   "id": "5e3fcd51",
   "metadata": {},
   "outputs": [],
   "source": [
    "pruned_paris_df.drop(columns=columns_to_drop, inplace=True)"
   ]
  },
  {
   "cell_type": "code",
   "execution_count": 72,
   "id": "12237621",
   "metadata": {},
   "outputs": [
    {
     "data": {
      "text/html": [
       "<div>\n",
       "<style scoped>\n",
       "    .dataframe tbody tr th:only-of-type {\n",
       "        vertical-align: middle;\n",
       "    }\n",
       "\n",
       "    .dataframe tbody tr th {\n",
       "        vertical-align: top;\n",
       "    }\n",
       "\n",
       "    .dataframe thead th {\n",
       "        text-align: right;\n",
       "    }\n",
       "</style>\n",
       "<table border=\"1\" class=\"dataframe\">\n",
       "  <thead>\n",
       "    <tr style=\"text-align: right;\">\n",
       "      <th></th>\n",
       "      <th>host_is_superhost</th>\n",
       "      <th>host_listings_count</th>\n",
       "      <th>host_identity_verified</th>\n",
       "      <th>accommodates</th>\n",
       "      <th>beds</th>\n",
       "      <th>price</th>\n",
       "      <th>minimum_nights</th>\n",
       "      <th>maximum_nights</th>\n",
       "      <th>number_of_reviews</th>\n",
       "      <th>number_of_reviews_ltm</th>\n",
       "      <th>number_of_reviews_l30d</th>\n",
       "      <th>instant_bookable</th>\n",
       "      <th>local_host</th>\n",
       "      <th>entire_home_apt</th>\n",
       "      <th>hotel_room</th>\n",
       "      <th>private_room</th>\n",
       "      <th>shared_room</th>\n",
       "      <th>host_days</th>\n",
       "    </tr>\n",
       "  </thead>\n",
       "  <tbody>\n",
       "    <tr>\n",
       "      <th>count</th>\n",
       "      <td>8987.000000</td>\n",
       "      <td>8987.000000</td>\n",
       "      <td>8987.000000</td>\n",
       "      <td>8987.000000</td>\n",
       "      <td>8987.000000</td>\n",
       "      <td>8987.000000</td>\n",
       "      <td>8987.000000</td>\n",
       "      <td>8987.000000</td>\n",
       "      <td>8987.000000</td>\n",
       "      <td>8987.000000</td>\n",
       "      <td>8987.000000</td>\n",
       "      <td>8987.000000</td>\n",
       "      <td>8987.000000</td>\n",
       "      <td>8987.000000</td>\n",
       "      <td>8987.000000</td>\n",
       "      <td>8987.000000</td>\n",
       "      <td>8987.000000</td>\n",
       "      <td>8987.000000</td>\n",
       "    </tr>\n",
       "    <tr>\n",
       "      <th>mean</th>\n",
       "      <td>0.315344</td>\n",
       "      <td>1.557472</td>\n",
       "      <td>0.895404</td>\n",
       "      <td>2.810393</td>\n",
       "      <td>1.526316</td>\n",
       "      <td>101.040837</td>\n",
       "      <td>20.627128</td>\n",
       "      <td>619.082341</td>\n",
       "      <td>38.362412</td>\n",
       "      <td>6.548125</td>\n",
       "      <td>1.142984</td>\n",
       "      <td>0.283632</td>\n",
       "      <td>0.757761</td>\n",
       "      <td>0.857572</td>\n",
       "      <td>0.017692</td>\n",
       "      <td>0.121731</td>\n",
       "      <td>0.003004</td>\n",
       "      <td>2145.207077</td>\n",
       "    </tr>\n",
       "    <tr>\n",
       "      <th>std</th>\n",
       "      <td>0.464679</td>\n",
       "      <td>1.010135</td>\n",
       "      <td>0.306049</td>\n",
       "      <td>1.226466</td>\n",
       "      <td>0.821785</td>\n",
       "      <td>52.736983</td>\n",
       "      <td>73.614330</td>\n",
       "      <td>521.850294</td>\n",
       "      <td>41.147916</td>\n",
       "      <td>8.738325</td>\n",
       "      <td>1.692906</td>\n",
       "      <td>0.450785</td>\n",
       "      <td>0.428462</td>\n",
       "      <td>0.349508</td>\n",
       "      <td>0.131838</td>\n",
       "      <td>0.326994</td>\n",
       "      <td>0.054733</td>\n",
       "      <td>928.054909</td>\n",
       "    </tr>\n",
       "    <tr>\n",
       "      <th>min</th>\n",
       "      <td>0.000000</td>\n",
       "      <td>1.000000</td>\n",
       "      <td>0.000000</td>\n",
       "      <td>1.000000</td>\n",
       "      <td>0.000000</td>\n",
       "      <td>13.000000</td>\n",
       "      <td>1.000000</td>\n",
       "      <td>1.000000</td>\n",
       "      <td>1.000000</td>\n",
       "      <td>1.000000</td>\n",
       "      <td>0.000000</td>\n",
       "      <td>0.000000</td>\n",
       "      <td>0.000000</td>\n",
       "      <td>0.000000</td>\n",
       "      <td>0.000000</td>\n",
       "      <td>0.000000</td>\n",
       "      <td>0.000000</td>\n",
       "      <td>9.000000</td>\n",
       "    </tr>\n",
       "    <tr>\n",
       "      <th>25%</th>\n",
       "      <td>0.000000</td>\n",
       "      <td>1.000000</td>\n",
       "      <td>1.000000</td>\n",
       "      <td>2.000000</td>\n",
       "      <td>1.000000</td>\n",
       "      <td>65.000000</td>\n",
       "      <td>2.000000</td>\n",
       "      <td>30.000000</td>\n",
       "      <td>8.000000</td>\n",
       "      <td>2.000000</td>\n",
       "      <td>0.000000</td>\n",
       "      <td>0.000000</td>\n",
       "      <td>1.000000</td>\n",
       "      <td>1.000000</td>\n",
       "      <td>0.000000</td>\n",
       "      <td>0.000000</td>\n",
       "      <td>0.000000</td>\n",
       "      <td>1434.000000</td>\n",
       "    </tr>\n",
       "    <tr>\n",
       "      <th>50%</th>\n",
       "      <td>0.000000</td>\n",
       "      <td>1.000000</td>\n",
       "      <td>1.000000</td>\n",
       "      <td>2.000000</td>\n",
       "      <td>1.000000</td>\n",
       "      <td>89.000000</td>\n",
       "      <td>3.000000</td>\n",
       "      <td>1124.000000</td>\n",
       "      <td>23.000000</td>\n",
       "      <td>4.000000</td>\n",
       "      <td>1.000000</td>\n",
       "      <td>0.000000</td>\n",
       "      <td>1.000000</td>\n",
       "      <td>1.000000</td>\n",
       "      <td>0.000000</td>\n",
       "      <td>0.000000</td>\n",
       "      <td>0.000000</td>\n",
       "      <td>2281.000000</td>\n",
       "    </tr>\n",
       "    <tr>\n",
       "      <th>75%</th>\n",
       "      <td>1.000000</td>\n",
       "      <td>2.000000</td>\n",
       "      <td>1.000000</td>\n",
       "      <td>4.000000</td>\n",
       "      <td>2.000000</td>\n",
       "      <td>125.000000</td>\n",
       "      <td>5.000000</td>\n",
       "      <td>1125.000000</td>\n",
       "      <td>54.000000</td>\n",
       "      <td>8.000000</td>\n",
       "      <td>2.000000</td>\n",
       "      <td>1.000000</td>\n",
       "      <td>1.000000</td>\n",
       "      <td>1.000000</td>\n",
       "      <td>0.000000</td>\n",
       "      <td>0.000000</td>\n",
       "      <td>0.000000</td>\n",
       "      <td>2837.000000</td>\n",
       "    </tr>\n",
       "    <tr>\n",
       "      <th>max</th>\n",
       "      <td>1.000000</td>\n",
       "      <td>5.000000</td>\n",
       "      <td>1.000000</td>\n",
       "      <td>6.000000</td>\n",
       "      <td>4.000000</td>\n",
       "      <td>300.000000</td>\n",
       "      <td>365.000000</td>\n",
       "      <td>1125.000000</td>\n",
       "      <td>200.000000</td>\n",
       "      <td>85.000000</td>\n",
       "      <td>32.000000</td>\n",
       "      <td>1.000000</td>\n",
       "      <td>1.000000</td>\n",
       "      <td>1.000000</td>\n",
       "      <td>1.000000</td>\n",
       "      <td>1.000000</td>\n",
       "      <td>1.000000</td>\n",
       "      <td>4549.000000</td>\n",
       "    </tr>\n",
       "  </tbody>\n",
       "</table>\n",
       "</div>"
      ],
      "text/plain": [
       "       host_is_superhost  host_listings_count  host_identity_verified  \\\n",
       "count        8987.000000          8987.000000             8987.000000   \n",
       "mean            0.315344             1.557472                0.895404   \n",
       "std             0.464679             1.010135                0.306049   \n",
       "min             0.000000             1.000000                0.000000   \n",
       "25%             0.000000             1.000000                1.000000   \n",
       "50%             0.000000             1.000000                1.000000   \n",
       "75%             1.000000             2.000000                1.000000   \n",
       "max             1.000000             5.000000                1.000000   \n",
       "\n",
       "       accommodates         beds        price  minimum_nights  maximum_nights  \\\n",
       "count   8987.000000  8987.000000  8987.000000     8987.000000     8987.000000   \n",
       "mean       2.810393     1.526316   101.040837       20.627128      619.082341   \n",
       "std        1.226466     0.821785    52.736983       73.614330      521.850294   \n",
       "min        1.000000     0.000000    13.000000        1.000000        1.000000   \n",
       "25%        2.000000     1.000000    65.000000        2.000000       30.000000   \n",
       "50%        2.000000     1.000000    89.000000        3.000000     1124.000000   \n",
       "75%        4.000000     2.000000   125.000000        5.000000     1125.000000   \n",
       "max        6.000000     4.000000   300.000000      365.000000     1125.000000   \n",
       "\n",
       "       number_of_reviews  number_of_reviews_ltm  number_of_reviews_l30d  \\\n",
       "count        8987.000000            8987.000000             8987.000000   \n",
       "mean           38.362412               6.548125                1.142984   \n",
       "std            41.147916               8.738325                1.692906   \n",
       "min             1.000000               1.000000                0.000000   \n",
       "25%             8.000000               2.000000                0.000000   \n",
       "50%            23.000000               4.000000                1.000000   \n",
       "75%            54.000000               8.000000                2.000000   \n",
       "max           200.000000              85.000000               32.000000   \n",
       "\n",
       "       instant_bookable   local_host  entire_home_apt   hotel_room  \\\n",
       "count       8987.000000  8987.000000      8987.000000  8987.000000   \n",
       "mean           0.283632     0.757761         0.857572     0.017692   \n",
       "std            0.450785     0.428462         0.349508     0.131838   \n",
       "min            0.000000     0.000000         0.000000     0.000000   \n",
       "25%            0.000000     1.000000         1.000000     0.000000   \n",
       "50%            0.000000     1.000000         1.000000     0.000000   \n",
       "75%            1.000000     1.000000         1.000000     0.000000   \n",
       "max            1.000000     1.000000         1.000000     1.000000   \n",
       "\n",
       "       private_room  shared_room    host_days  \n",
       "count   8987.000000  8987.000000  8987.000000  \n",
       "mean       0.121731     0.003004  2145.207077  \n",
       "std        0.326994     0.054733   928.054909  \n",
       "min        0.000000     0.000000     9.000000  \n",
       "25%        0.000000     0.000000  1434.000000  \n",
       "50%        0.000000     0.000000  2281.000000  \n",
       "75%        0.000000     0.000000  2837.000000  \n",
       "max        1.000000     1.000000  4549.000000  "
      ]
     },
     "execution_count": 72,
     "metadata": {},
     "output_type": "execute_result"
    }
   ],
   "source": [
    "# investigating variables in the model\n",
    "pruned_paris_df.describe()"
   ]
  },
  {
   "cell_type": "code",
   "execution_count": 73,
   "id": "c77663b1",
   "metadata": {},
   "outputs": [],
   "source": [
    "# checking correlations between numerical variables\n",
    "num_variables = [\n",
    "    'host_listings_count', 'accommodates', 'beds', 'price', 'minimum_nights', 'maximum_nights', 'number_of_reviews', \n",
    "    'number_of_reviews_ltm', 'number_of_reviews_l30d', 'host_days'\n",
    "]\n",
    "binary_variables = [\n",
    "    'host_is_superhost', 'host_identity_verified', 'instant_bookable', 'local_host', 'entire_home_apt', 'hotel_room', \n",
    "    'private_room', 'shared_room'\n",
    "]"
   ]
  },
  {
   "cell_type": "code",
   "execution_count": 74,
   "id": "2a857d19",
   "metadata": {},
   "outputs": [
    {
     "name": "stdout",
     "output_type": "stream",
     "text": [
      "Wall time: 15.2 s\n"
     ]
    },
    {
     "data": {
      "text/plain": [
       "<seaborn.axisgrid.PairGrid at 0x203bb2c3f40>"
      ]
     },
     "execution_count": 74,
     "metadata": {},
     "output_type": "execute_result"
    },
    {
     "data": {
      "image/png": "[encoded data removed]",
      "text/plain": [
       "<Figure size 1440x1440 with 65 Axes>"
      ]
     },
     "metadata": {
      "needs_background": "light"
     },
     "output_type": "display_data"
    }
   ],
   "source": [
    "%%time\n",
    "sns.pairplot(pruned_paris_df[num_variables], height=2, corner=True, kind='reg')"
   ]
  },
  {
   "cell_type": "code",
   "execution_count": 75,
   "id": "593cd83d",
   "metadata": {},
   "outputs": [
    {
     "data": {
      "text/html": [
       "<div>\n",
       "<style scoped>\n",
       "    .dataframe tbody tr th:only-of-type {\n",
       "        vertical-align: middle;\n",
       "    }\n",
       "\n",
       "    .dataframe tbody tr th {\n",
       "        vertical-align: top;\n",
       "    }\n",
       "\n",
       "    .dataframe thead th {\n",
       "        text-align: right;\n",
       "    }\n",
       "</style>\n",
       "<table border=\"1\" class=\"dataframe\">\n",
       "  <thead>\n",
       "    <tr style=\"text-align: right;\">\n",
       "      <th></th>\n",
       "      <th>host_listings_count</th>\n",
       "      <th>accommodates</th>\n",
       "      <th>beds</th>\n",
       "      <th>price</th>\n",
       "      <th>minimum_nights</th>\n",
       "      <th>maximum_nights</th>\n",
       "      <th>number_of_reviews</th>\n",
       "      <th>number_of_reviews_ltm</th>\n",
       "      <th>number_of_reviews_l30d</th>\n",
       "      <th>host_days</th>\n",
       "    </tr>\n",
       "  </thead>\n",
       "  <tbody>\n",
       "    <tr>\n",
       "      <th>host_listings_count</th>\n",
       "      <td>1.000000</td>\n",
       "      <td>-0.022462</td>\n",
       "      <td>-0.011642</td>\n",
       "      <td>0.125017</td>\n",
       "      <td>0.002704</td>\n",
       "      <td>0.099236</td>\n",
       "      <td>0.008542</td>\n",
       "      <td>0.143206</td>\n",
       "      <td>0.101170</td>\n",
       "      <td>-0.073941</td>\n",
       "    </tr>\n",
       "    <tr>\n",
       "      <th>accommodates</th>\n",
       "      <td>-0.022462</td>\n",
       "      <td>1.000000</td>\n",
       "      <td>0.723739</td>\n",
       "      <td>0.516641</td>\n",
       "      <td>-0.027496</td>\n",
       "      <td>0.058023</td>\n",
       "      <td>0.050024</td>\n",
       "      <td>0.017247</td>\n",
       "      <td>-0.042951</td>\n",
       "      <td>0.016550</td>\n",
       "    </tr>\n",
       "    <tr>\n",
       "      <th>beds</th>\n",
       "      <td>-0.011642</td>\n",
       "      <td>0.723739</td>\n",
       "      <td>1.000000</td>\n",
       "      <td>0.415545</td>\n",
       "      <td>-0.049479</td>\n",
       "      <td>0.028521</td>\n",
       "      <td>0.033186</td>\n",
       "      <td>0.004794</td>\n",
       "      <td>-0.048580</td>\n",
       "      <td>0.015236</td>\n",
       "    </tr>\n",
       "    <tr>\n",
       "      <th>price</th>\n",
       "      <td>0.125017</td>\n",
       "      <td>0.516641</td>\n",
       "      <td>0.415545</td>\n",
       "      <td>1.000000</td>\n",
       "      <td>-0.091414</td>\n",
       "      <td>0.053524</td>\n",
       "      <td>0.062268</td>\n",
       "      <td>0.023229</td>\n",
       "      <td>0.033986</td>\n",
       "      <td>-0.017855</td>\n",
       "    </tr>\n",
       "    <tr>\n",
       "      <th>minimum_nights</th>\n",
       "      <td>0.002704</td>\n",
       "      <td>-0.027496</td>\n",
       "      <td>-0.049479</td>\n",
       "      <td>-0.091414</td>\n",
       "      <td>1.000000</td>\n",
       "      <td>0.157741</td>\n",
       "      <td>-0.065918</td>\n",
       "      <td>-0.084923</td>\n",
       "      <td>-0.145403</td>\n",
       "      <td>-0.032943</td>\n",
       "    </tr>\n",
       "    <tr>\n",
       "      <th>maximum_nights</th>\n",
       "      <td>0.099236</td>\n",
       "      <td>0.058023</td>\n",
       "      <td>0.028521</td>\n",
       "      <td>0.053524</td>\n",
       "      <td>0.157741</td>\n",
       "      <td>1.000000</td>\n",
       "      <td>-0.021853</td>\n",
       "      <td>0.041338</td>\n",
       "      <td>-0.014884</td>\n",
       "      <td>-0.125816</td>\n",
       "    </tr>\n",
       "    <tr>\n",
       "      <th>number_of_reviews</th>\n",
       "      <td>0.008542</td>\n",
       "      <td>0.050024</td>\n",
       "      <td>0.033186</td>\n",
       "      <td>0.062268</td>\n",
       "      <td>-0.065918</td>\n",
       "      <td>-0.021853</td>\n",
       "      <td>1.000000</td>\n",
       "      <td>0.350798</td>\n",
       "      <td>0.255489</td>\n",
       "      <td>0.219497</td>\n",
       "    </tr>\n",
       "    <tr>\n",
       "      <th>number_of_reviews_ltm</th>\n",
       "      <td>0.143206</td>\n",
       "      <td>0.017247</td>\n",
       "      <td>0.004794</td>\n",
       "      <td>0.023229</td>\n",
       "      <td>-0.084923</td>\n",
       "      <td>0.041338</td>\n",
       "      <td>0.350798</td>\n",
       "      <td>1.000000</td>\n",
       "      <td>0.533333</td>\n",
       "      <td>-0.159538</td>\n",
       "    </tr>\n",
       "    <tr>\n",
       "      <th>number_of_reviews_l30d</th>\n",
       "      <td>0.101170</td>\n",
       "      <td>-0.042951</td>\n",
       "      <td>-0.048580</td>\n",
       "      <td>0.033986</td>\n",
       "      <td>-0.145403</td>\n",
       "      <td>-0.014884</td>\n",
       "      <td>0.255489</td>\n",
       "      <td>0.533333</td>\n",
       "      <td>1.000000</td>\n",
       "      <td>-0.100639</td>\n",
       "    </tr>\n",
       "    <tr>\n",
       "      <th>host_days</th>\n",
       "      <td>-0.073941</td>\n",
       "      <td>0.016550</td>\n",
       "      <td>0.015236</td>\n",
       "      <td>-0.017855</td>\n",
       "      <td>-0.032943</td>\n",
       "      <td>-0.125816</td>\n",
       "      <td>0.219497</td>\n",
       "      <td>-0.159538</td>\n",
       "      <td>-0.100639</td>\n",
       "      <td>1.000000</td>\n",
       "    </tr>\n",
       "  </tbody>\n",
       "</table>\n",
       "</div>"
      ],
      "text/plain": [
       "                        host_listings_count  accommodates      beds     price  \\\n",
       "host_listings_count                1.000000     -0.022462 -0.011642  0.125017   \n",
       "accommodates                      -0.022462      1.000000  0.723739  0.516641   \n",
       "beds                              -0.011642      0.723739  1.000000  0.415545   \n",
       "price                              0.125017      0.516641  0.415545  1.000000   \n",
       "minimum_nights                     0.002704     -0.027496 -0.049479 -0.091414   \n",
       "maximum_nights                     0.099236      0.058023  0.028521  0.053524   \n",
       "number_of_reviews                  0.008542      0.050024  0.033186  0.062268   \n",
       "number_of_reviews_ltm              0.143206      0.017247  0.004794  0.023229   \n",
       "number_of_reviews_l30d             0.101170     -0.042951 -0.048580  0.033986   \n",
       "host_days                         -0.073941      0.016550  0.015236 -0.017855   \n",
       "\n",
       "                        minimum_nights  maximum_nights  number_of_reviews  \\\n",
       "host_listings_count           0.002704        0.099236           0.008542   \n",
       "accommodates                 -0.027496        0.058023           0.050024   \n",
       "beds                         -0.049479        0.028521           0.033186   \n",
       "price                        -0.091414        0.053524           0.062268   \n",
       "minimum_nights                1.000000        0.157741          -0.065918   \n",
       "maximum_nights                0.157741        1.000000          -0.021853   \n",
       "number_of_reviews            -0.065918       -0.021853           1.000000   \n",
       "number_of_reviews_ltm        -0.084923        0.041338           0.350798   \n",
       "number_of_reviews_l30d       -0.145403       -0.014884           0.255489   \n",
       "host_days                    -0.032943       -0.125816           0.219497   \n",
       "\n",
       "                        number_of_reviews_ltm  number_of_reviews_l30d  \\\n",
       "host_listings_count                  0.143206                0.101170   \n",
       "accommodates                         0.017247               -0.042951   \n",
       "beds                                 0.004794               -0.048580   \n",
       "price                                0.023229                0.033986   \n",
       "minimum_nights                      -0.084923               -0.145403   \n",
       "maximum_nights                       0.041338               -0.014884   \n",
       "number_of_reviews                    0.350798                0.255489   \n",
       "number_of_reviews_ltm                1.000000                0.533333   \n",
       "number_of_reviews_l30d               0.533333                1.000000   \n",
       "host_days                           -0.159538               -0.100639   \n",
       "\n",
       "                        host_days  \n",
       "host_listings_count     -0.073941  \n",
       "accommodates             0.016550  \n",
       "beds                     0.015236  \n",
       "price                   -0.017855  \n",
       "minimum_nights          -0.032943  \n",
       "maximum_nights          -0.125816  \n",
       "number_of_reviews        0.219497  \n",
       "number_of_reviews_ltm   -0.159538  \n",
       "number_of_reviews_l30d  -0.100639  \n",
       "host_days                1.000000  "
      ]
     },
     "execution_count": 75,
     "metadata": {},
     "output_type": "execute_result"
    }
   ],
   "source": [
    "pruned_paris_df[num_variables].corr()"
   ]
  },
  {
   "cell_type": "code",
   "execution_count": 76,
   "id": "8df581d5",
   "metadata": {},
   "outputs": [
    {
     "data": {
      "text/plain": [
       "array([[ 729, 5424],\n",
       "       [ 211, 2623]], dtype=int64)"
      ]
     },
     "execution_count": 76,
     "metadata": {},
     "output_type": "execute_result"
    }
   ],
   "source": [
    "ladata = pd.crosstab(pruned_paris_df[binary_variables[0]], pruned_paris_df[binary_variables[1]])\n",
    "ladata = np.array(ladata)\n",
    "ladata"
   ]
  },
  {
   "cell_type": "markdown",
   "id": "9386d271",
   "metadata": {},
   "source": [
    "displaying Cramér's V association between nominal variables "
   ]
  },
  {
   "cell_type": "code",
   "execution_count": 77,
   "id": "8a22e8c2",
   "metadata": {},
   "outputs": [],
   "source": [
    "def cramer_matrix(dataframe, variables):\n",
    "    matrix = np.empty((0, len(variables)), float)\n",
    "    rcnt = 0\n",
    "    \n",
    "    for rcnt in range(0, len(variables)):\n",
    "        row = np.empty((1, 0), float)\n",
    "        ccnt = 0\n",
    "        for ccnt in range(0, len(variables)):\n",
    "            ctab = pd.crosstab(dataframe[variables[rcnt]], pruned_paris_df[variables[ccnt]])\n",
    "            ctab = np.array(ctab)\n",
    "            X2 = stats.chi2_contingency(ctab, correction=False)[0]\n",
    "            n = np.sum(ctab)\n",
    "            minDim = min(ctab.shape) - 1\n",
    "            CramerV = np.sqrt((X2 / n) / minDim)\n",
    "            CramerV = np.array(CramerV)\n",
    "            row = np.column_stack((row, CramerV))\n",
    "            ccnt =+ 1\n",
    "        matrix = np.append(matrix, row, axis=0)\n",
    "        rcnt =+ 1\n",
    "        \n",
    "    matrix_df = pd.DataFrame(matrix, index=variables, columns=variables)\n",
    "        \n",
    "    return matrix_df"
   ]
  },
  {
   "cell_type": "code",
   "execution_count": 78,
   "id": "3be91916",
   "metadata": {},
   "outputs": [
    {
     "name": "stdout",
     "output_type": "stream",
     "text": [
      "Wall time: 2.25 s\n"
     ]
    },
    {
     "data": {
      "text/plain": [
       "<seaborn.axisgrid.PairGrid at 0x203bc85f220>"
      ]
     },
     "execution_count": 78,
     "metadata": {},
     "output_type": "execute_result"
    },
    {
     "data": {
      "image/png": "[encoded data removed]",
      "text/plain": [
       "<Figure size 1152x1152 with 44 Axes>"
      ]
     },
     "metadata": {
      "needs_background": "light"
     },
     "output_type": "display_data"
    }
   ],
   "source": [
    "%%time\n",
    "sns.pairplot(data=pruned_paris_df, x_vars=binary_variables, y_vars=binary_variables, height=2, corner=True, kind='hist')"
   ]
  },
  {
   "cell_type": "code",
   "execution_count": 79,
   "id": "315c6d1b",
   "metadata": {
    "scrolled": true
   },
   "outputs": [
    {
     "data": {
      "text/html": [
       "<div>\n",
       "<style scoped>\n",
       "    .dataframe tbody tr th:only-of-type {\n",
       "        vertical-align: middle;\n",
       "    }\n",
       "\n",
       "    .dataframe tbody tr th {\n",
       "        vertical-align: top;\n",
       "    }\n",
       "\n",
       "    .dataframe thead th {\n",
       "        text-align: right;\n",
       "    }\n",
       "</style>\n",
       "<table border=\"1\" class=\"dataframe\">\n",
       "  <thead>\n",
       "    <tr style=\"text-align: right;\">\n",
       "      <th></th>\n",
       "      <th>host_is_superhost</th>\n",
       "      <th>host_identity_verified</th>\n",
       "      <th>instant_bookable</th>\n",
       "      <th>local_host</th>\n",
       "      <th>entire_home_apt</th>\n",
       "      <th>hotel_room</th>\n",
       "      <th>private_room</th>\n",
       "      <th>shared_room</th>\n",
       "    </tr>\n",
       "  </thead>\n",
       "  <tbody>\n",
       "    <tr>\n",
       "      <th>host_is_superhost</th>\n",
       "      <td>1.000000</td>\n",
       "      <td>0.066845</td>\n",
       "      <td>0.039413</td>\n",
       "      <td>0.019845</td>\n",
       "      <td>0.022858</td>\n",
       "      <td>0.023869</td>\n",
       "      <td>0.033700</td>\n",
       "      <td>0.002125</td>\n",
       "    </tr>\n",
       "    <tr>\n",
       "      <th>host_identity_verified</th>\n",
       "      <td>0.066845</td>\n",
       "      <td>1.000000</td>\n",
       "      <td>0.015015</td>\n",
       "      <td>0.032500</td>\n",
       "      <td>0.047979</td>\n",
       "      <td>0.056180</td>\n",
       "      <td>0.027325</td>\n",
       "      <td>0.007812</td>\n",
       "    </tr>\n",
       "    <tr>\n",
       "      <th>instant_bookable</th>\n",
       "      <td>0.039413</td>\n",
       "      <td>0.015015</td>\n",
       "      <td>1.000000</td>\n",
       "      <td>0.125913</td>\n",
       "      <td>0.114391</td>\n",
       "      <td>0.205794</td>\n",
       "      <td>0.036772</td>\n",
       "      <td>0.015074</td>\n",
       "    </tr>\n",
       "    <tr>\n",
       "      <th>local_host</th>\n",
       "      <td>0.019845</td>\n",
       "      <td>0.032500</td>\n",
       "      <td>0.125913</td>\n",
       "      <td>1.000000</td>\n",
       "      <td>0.012682</td>\n",
       "      <td>0.048235</td>\n",
       "      <td>0.034162</td>\n",
       "      <td>0.006926</td>\n",
       "    </tr>\n",
       "    <tr>\n",
       "      <th>entire_home_apt</th>\n",
       "      <td>0.022858</td>\n",
       "      <td>0.047979</td>\n",
       "      <td>0.114391</td>\n",
       "      <td>0.012682</td>\n",
       "      <td>1.000000</td>\n",
       "      <td>0.329310</td>\n",
       "      <td>0.913535</td>\n",
       "      <td>0.134699</td>\n",
       "    </tr>\n",
       "    <tr>\n",
       "      <th>hotel_room</th>\n",
       "      <td>0.023869</td>\n",
       "      <td>0.056180</td>\n",
       "      <td>0.205794</td>\n",
       "      <td>0.048235</td>\n",
       "      <td>0.329310</td>\n",
       "      <td>1.000000</td>\n",
       "      <td>0.049964</td>\n",
       "      <td>0.007367</td>\n",
       "    </tr>\n",
       "    <tr>\n",
       "      <th>private_room</th>\n",
       "      <td>0.033700</td>\n",
       "      <td>0.027325</td>\n",
       "      <td>0.036772</td>\n",
       "      <td>0.034162</td>\n",
       "      <td>0.913535</td>\n",
       "      <td>0.049964</td>\n",
       "      <td>1.000000</td>\n",
       "      <td>0.020437</td>\n",
       "    </tr>\n",
       "    <tr>\n",
       "      <th>shared_room</th>\n",
       "      <td>0.002125</td>\n",
       "      <td>0.007812</td>\n",
       "      <td>0.015074</td>\n",
       "      <td>0.006926</td>\n",
       "      <td>0.134699</td>\n",
       "      <td>0.007367</td>\n",
       "      <td>0.020437</td>\n",
       "      <td>1.000000</td>\n",
       "    </tr>\n",
       "  </tbody>\n",
       "</table>\n",
       "</div>"
      ],
      "text/plain": [
       "                        host_is_superhost  host_identity_verified  \\\n",
       "host_is_superhost                1.000000                0.066845   \n",
       "host_identity_verified           0.066845                1.000000   \n",
       "instant_bookable                 0.039413                0.015015   \n",
       "local_host                       0.019845                0.032500   \n",
       "entire_home_apt                  0.022858                0.047979   \n",
       "hotel_room                       0.023869                0.056180   \n",
       "private_room                     0.033700                0.027325   \n",
       "shared_room                      0.002125                0.007812   \n",
       "\n",
       "                        instant_bookable  local_host  entire_home_apt  \\\n",
       "host_is_superhost               0.039413    0.019845         0.022858   \n",
       "host_identity_verified          0.015015    0.032500         0.047979   \n",
       "instant_bookable                1.000000    0.125913         0.114391   \n",
       "local_host                      0.125913    1.000000         0.012682   \n",
       "entire_home_apt                 0.114391    0.012682         1.000000   \n",
       "hotel_room                      0.205794    0.048235         0.329310   \n",
       "private_room                    0.036772    0.034162         0.913535   \n",
       "shared_room                     0.015074    0.006926         0.134699   \n",
       "\n",
       "                        hotel_room  private_room  shared_room  \n",
       "host_is_superhost         0.023869      0.033700     0.002125  \n",
       "host_identity_verified    0.056180      0.027325     0.007812  \n",
       "instant_bookable          0.205794      0.036772     0.015074  \n",
       "local_host                0.048235      0.034162     0.006926  \n",
       "entire_home_apt           0.329310      0.913535     0.134699  \n",
       "hotel_room                1.000000      0.049964     0.007367  \n",
       "private_room              0.049964      1.000000     0.020437  \n",
       "shared_room               0.007367      0.020437     1.000000  "
      ]
     },
     "execution_count": 79,
     "metadata": {},
     "output_type": "execute_result"
    }
   ],
   "source": [
    "CramerVmatrix = cramer_matrix(pruned_paris_df, binary_variables)\n",
    "CramerVmatrix"
   ]
  },
  {
   "cell_type": "markdown",
   "id": "8913fed5",
   "metadata": {},
   "source": [
    "displaying linear correlation coefficient matrix between nominal and numerical variable pairs"
   ]
  },
  {
   "cell_type": "code",
   "execution_count": 80,
   "id": "6d228ee5",
   "metadata": {},
   "outputs": [],
   "source": [
    "def linear_reg(dataframe, variables_1, variables_2):\n",
    "    matrix = np.empty((0, len(variables_1)), float)\n",
    "    rcnt = 0\n",
    "    \n",
    "    for rcnt in range(0, len(variables_2)):\n",
    "        row = np.empty((1, 0), float)\n",
    "        ccnt = 0\n",
    "        for ccnt in range(0, len(variables_1)):\n",
    "            regression = stats.linregress(dataframe[variables_2[rcnt]], pruned_paris_df[variables_1[ccnt]])\n",
    "            row = np.column_stack((row, regression.rvalue))\n",
    "            ccnt =+ 1\n",
    "        matrix = np.append(matrix, row, axis=0)\n",
    "        rcnt =+ 1\n",
    "        \n",
    "    matrix_df = pd.DataFrame(matrix, index=variables_2, columns=variables_1)\n",
    "        \n",
    "    return matrix_df"
   ]
  },
  {
   "cell_type": "code",
   "execution_count": 81,
   "id": "a45d3e51",
   "metadata": {},
   "outputs": [
    {
     "name": "stdout",
     "output_type": "stream",
     "text": [
      "Wall time: 4.25 s\n"
     ]
    },
    {
     "data": {
      "text/plain": [
       "<seaborn.axisgrid.PairGrid at 0x203c1421550>"
      ]
     },
     "execution_count": 81,
     "metadata": {},
     "output_type": "execute_result"
    },
    {
     "data": {
      "image/png": "[encoded data removed]",
      "text/plain": [
       "<Figure size 1440x1152 with 80 Axes>"
      ]
     },
     "metadata": {
      "needs_background": "light"
     },
     "output_type": "display_data"
    }
   ],
   "source": [
    "%%time\n",
    "sns.pairplot(data=pruned_paris_df, x_vars=num_variables, y_vars=binary_variables, height=2, kind='hist')"
   ]
  },
  {
   "cell_type": "code",
   "execution_count": 82,
   "id": "2842a20e",
   "metadata": {},
   "outputs": [
    {
     "data": {
      "text/html": [
       "<div>\n",
       "<style scoped>\n",
       "    .dataframe tbody tr th:only-of-type {\n",
       "        vertical-align: middle;\n",
       "    }\n",
       "\n",
       "    .dataframe tbody tr th {\n",
       "        vertical-align: top;\n",
       "    }\n",
       "\n",
       "    .dataframe thead th {\n",
       "        text-align: right;\n",
       "    }\n",
       "</style>\n",
       "<table border=\"1\" class=\"dataframe\">\n",
       "  <thead>\n",
       "    <tr style=\"text-align: right;\">\n",
       "      <th></th>\n",
       "      <th>host_is_superhost</th>\n",
       "      <th>host_identity_verified</th>\n",
       "      <th>instant_bookable</th>\n",
       "      <th>local_host</th>\n",
       "      <th>entire_home_apt</th>\n",
       "      <th>hotel_room</th>\n",
       "      <th>private_room</th>\n",
       "      <th>shared_room</th>\n",
       "    </tr>\n",
       "  </thead>\n",
       "  <tbody>\n",
       "    <tr>\n",
       "      <th>host_listings_count</th>\n",
       "      <td>0.044601</td>\n",
       "      <td>0.052204</td>\n",
       "      <td>0.235594</td>\n",
       "      <td>-0.123775</td>\n",
       "      <td>-0.238750</td>\n",
       "      <td>0.293609</td>\n",
       "      <td>0.131101</td>\n",
       "      <td>0.034114</td>\n",
       "    </tr>\n",
       "    <tr>\n",
       "      <th>accommodates</th>\n",
       "      <td>0.015298</td>\n",
       "      <td>0.043810</td>\n",
       "      <td>0.016567</td>\n",
       "      <td>-0.016259</td>\n",
       "      <td>0.291101</td>\n",
       "      <td>-0.073540</td>\n",
       "      <td>-0.270983</td>\n",
       "      <td>-0.062799</td>\n",
       "    </tr>\n",
       "    <tr>\n",
       "      <th>beds</th>\n",
       "      <td>0.018191</td>\n",
       "      <td>0.028202</td>\n",
       "      <td>-0.001976</td>\n",
       "      <td>-0.005123</td>\n",
       "      <td>0.175393</td>\n",
       "      <td>-0.047952</td>\n",
       "      <td>-0.165565</td>\n",
       "      <td>-0.015366</td>\n",
       "    </tr>\n",
       "    <tr>\n",
       "      <th>price</th>\n",
       "      <td>0.112154</td>\n",
       "      <td>0.046764</td>\n",
       "      <td>0.096571</td>\n",
       "      <td>-0.038095</td>\n",
       "      <td>0.149274</td>\n",
       "      <td>0.160595</td>\n",
       "      <td>-0.213407</td>\n",
       "      <td>-0.065084</td>\n",
       "    </tr>\n",
       "    <tr>\n",
       "      <th>minimum_nights</th>\n",
       "      <td>-0.074614</td>\n",
       "      <td>-0.005673</td>\n",
       "      <td>0.005619</td>\n",
       "      <td>-0.046184</td>\n",
       "      <td>0.091119</td>\n",
       "      <td>-0.023148</td>\n",
       "      <td>-0.085671</td>\n",
       "      <td>-0.014278</td>\n",
       "    </tr>\n",
       "    <tr>\n",
       "      <th>maximum_nights</th>\n",
       "      <td>-0.020316</td>\n",
       "      <td>-0.002565</td>\n",
       "      <td>0.071817</td>\n",
       "      <td>-0.060588</td>\n",
       "      <td>0.014614</td>\n",
       "      <td>0.087362</td>\n",
       "      <td>-0.043205</td>\n",
       "      <td>-0.045629</td>\n",
       "    </tr>\n",
       "    <tr>\n",
       "      <th>number_of_reviews</th>\n",
       "      <td>0.242507</td>\n",
       "      <td>0.082657</td>\n",
       "      <td>0.033803</td>\n",
       "      <td>0.038750</td>\n",
       "      <td>-0.035039</td>\n",
       "      <td>-0.040158</td>\n",
       "      <td>0.055336</td>\n",
       "      <td>-0.010119</td>\n",
       "    </tr>\n",
       "    <tr>\n",
       "      <th>number_of_reviews_ltm</th>\n",
       "      <td>0.170540</td>\n",
       "      <td>0.055811</td>\n",
       "      <td>0.152890</td>\n",
       "      <td>-0.068979</td>\n",
       "      <td>-0.050444</td>\n",
       "      <td>0.014475</td>\n",
       "      <td>0.048346</td>\n",
       "      <td>-0.001582</td>\n",
       "    </tr>\n",
       "    <tr>\n",
       "      <th>number_of_reviews_l30d</th>\n",
       "      <td>0.144546</td>\n",
       "      <td>0.042400</td>\n",
       "      <td>0.136570</td>\n",
       "      <td>-0.052121</td>\n",
       "      <td>-0.120180</td>\n",
       "      <td>0.048498</td>\n",
       "      <td>0.104852</td>\n",
       "      <td>0.024188</td>\n",
       "    </tr>\n",
       "    <tr>\n",
       "      <th>host_days</th>\n",
       "      <td>0.084436</td>\n",
       "      <td>0.093425</td>\n",
       "      <td>-0.178611</td>\n",
       "      <td>0.253339</td>\n",
       "      <td>0.073483</td>\n",
       "      <td>-0.106524</td>\n",
       "      <td>-0.031500</td>\n",
       "      <td>-0.024458</td>\n",
       "    </tr>\n",
       "  </tbody>\n",
       "</table>\n",
       "</div>"
      ],
      "text/plain": [
       "                        host_is_superhost  host_identity_verified  \\\n",
       "host_listings_count              0.044601                0.052204   \n",
       "accommodates                     0.015298                0.043810   \n",
       "beds                             0.018191                0.028202   \n",
       "price                            0.112154                0.046764   \n",
       "minimum_nights                  -0.074614               -0.005673   \n",
       "maximum_nights                  -0.020316               -0.002565   \n",
       "number_of_reviews                0.242507                0.082657   \n",
       "number_of_reviews_ltm            0.170540                0.055811   \n",
       "number_of_reviews_l30d           0.144546                0.042400   \n",
       "host_days                        0.084436                0.093425   \n",
       "\n",
       "                        instant_bookable  local_host  entire_home_apt  \\\n",
       "host_listings_count             0.235594   -0.123775        -0.238750   \n",
       "accommodates                    0.016567   -0.016259         0.291101   \n",
       "beds                           -0.001976   -0.005123         0.175393   \n",
       "price                           0.096571   -0.038095         0.149274   \n",
       "minimum_nights                  0.005619   -0.046184         0.091119   \n",
       "maximum_nights                  0.071817   -0.060588         0.014614   \n",
       "number_of_reviews               0.033803    0.038750        -0.035039   \n",
       "number_of_reviews_ltm           0.152890   -0.068979        -0.050444   \n",
       "number_of_reviews_l30d          0.136570   -0.052121        -0.120180   \n",
       "host_days                      -0.178611    0.253339         0.073483   \n",
       "\n",
       "                        hotel_room  private_room  shared_room  \n",
       "host_listings_count       0.293609      0.131101     0.034114  \n",
       "accommodates             -0.073540     -0.270983    -0.062799  \n",
       "beds                     -0.047952     -0.165565    -0.015366  \n",
       "price                     0.160595     -0.213407    -0.065084  \n",
       "minimum_nights           -0.023148     -0.085671    -0.014278  \n",
       "maximum_nights            0.087362     -0.043205    -0.045629  \n",
       "number_of_reviews        -0.040158      0.055336    -0.010119  \n",
       "number_of_reviews_ltm     0.014475      0.048346    -0.001582  \n",
       "number_of_reviews_l30d    0.048498      0.104852     0.024188  \n",
       "host_days                -0.106524     -0.031500    -0.024458  "
      ]
     },
     "execution_count": 82,
     "metadata": {},
     "output_type": "execute_result"
    }
   ],
   "source": [
    "LinearRmatrix = linear_reg(pruned_paris_df, binary_variables, num_variables)\n",
    "LinearRmatrix"
   ]
  }
 ],
 "metadata": {
  "kernelspec": {
   "display_name": "Python 3 (ipykernel)",
   "language": "python",
   "name": "python3"
  },
  "language_info": {
   "codemirror_mode": {
    "name": "ipython",
    "version": 3
   },
   "file_extension": ".py",
   "mimetype": "text/x-python",
   "name": "python",
   "nbconvert_exporter": "python",
   "pygments_lexer": "ipython3",
   "version": "3.9.6"
  }
 },
 "nbformat": 4,
 "nbformat_minor": 5
}
